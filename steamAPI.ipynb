{
 "cells": [
  {
   "cell_type": "markdown",
   "id": "e06c8833",
   "metadata": {},
   "source": [
    "https://pypi.org/project/python-steam-api/"
   ]
  },
  {
   "cell_type": "code",
   "execution_count": 1,
   "id": "c4b23ead",
   "metadata": {},
   "outputs": [],
   "source": [
    "from steamkey import keys\n",
    "from steam import Steam\n",
    "import json\n",
    "import pandas as pd\n",
    "from sqlalchemy import create_engine, URL\n",
    "from keys import secrets\n",
    "from dbFunctions import connectSteam\n",
    "from tqdm import tqdm\n",
    "import time"
   ]
  },
  {
   "cell_type": "code",
   "execution_count": 2,
   "id": "08047919",
   "metadata": {},
   "outputs": [],
   "source": [
    "username = secrets.get('user')\n",
    "password = secrets.get('password')"
   ]
  },
  {
   "cell_type": "code",
   "execution_count": 6,
   "id": "26ccabd3",
   "metadata": {},
   "outputs": [
    {
     "name": "stderr",
     "output_type": "stream",
     "text": [
      "c:\\Users\\admin\\DSML\\FullStack\\SteamRecommender\\dbFunctions.py:22: UserWarning: pandas only supports SQLAlchemy connectable (engine/connection) or database string URI or sqlite3 DBAPI2 connection. Other DBAPI2 objects are not tested. Please consider using SQLAlchemy.\n",
      "  return pd.read_sql(sql, con=connection)\n"
     ]
    }
   ],
   "source": [
    "steamData = connectSteam('steam', username, password)"
   ]
  },
  {
   "cell_type": "code",
   "execution_count": 4,
   "id": "fd9614e2",
   "metadata": {},
   "outputs": [],
   "source": [
    "# Convert all ids to int\n",
    "# steamData['Unique_ID'] = steamData['Unique_ID'].astype('str')"
   ]
  },
  {
   "cell_type": "code",
   "execution_count": 7,
   "id": "16fe155d",
   "metadata": {},
   "outputs": [],
   "source": [
    "# Grab list of all Steam IDs\n",
    "ids = list(steamData.Unique_ID.unique())\n",
    "\n",
    "# Convert numpy int to native int\n",
    "ids = list(map(int, ids))"
   ]
  },
  {
   "cell_type": "code",
   "execution_count": 8,
   "id": "ba2921af",
   "metadata": {},
   "outputs": [
    {
     "data": {
      "text/plain": [
       "[1643320,\n",
       " 2172860,\n",
       " 1364780,\n",
       " 1868170,\n",
       " 1810820,\n",
       " 1868180,\n",
       " 1485590,\n",
       " 1294810,\n",
       " 1774580,\n",
       " 1798020,\n",
       " 482400,\n",
       " 2109370,\n",
       " 1593030,\n",
       " 1888930,\n",
       " 2254450,\n",
       " 1677350,\n",
       " 1999770,\n",
       " 2050650,\n",
       " 820520,\n",
       " 1942660,\n",
       " 1904392,\n",
       " 2277860,\n",
       " 2130460,\n",
       " 2106840,\n",
       " 1214470,\n",
       " 1448440,\n",
       " 1945340,\n",
       " 1971650,\n",
       " 1677280,\n",
       " 1016950,\n",
       " 1934660,\n",
       " 2290890,\n",
       " 1785300,\n",
       " 1579880,\n",
       " 1425250,\n",
       " 2246130,\n",
       " 2139300,\n",
       " 2215010,\n",
       " 2272770,\n",
       " 2104750,\n",
       " 2208530,\n",
       " 2219880,\n",
       " 2126010,\n",
       " 2202930,\n",
       " 1394790,\n",
       " 1530160,\n",
       " 1951530,\n",
       " 2255120,\n",
       " 2286960,\n",
       " 2146180,\n",
       " 2064700,\n",
       " 2182370,\n",
       " 2101400,\n",
       " 1998970,\n",
       " 1584820,\n",
       " 2104734,\n",
       " 2104730,\n",
       " 1805480,\n",
       " 2272500,\n",
       " 2308100,\n",
       " 2325050,\n",
       " 2005680,\n",
       " 1871990,\n",
       " 2311760,\n",
       " 2285430,\n",
       " 2295530,\n",
       " 2260870,\n",
       " 1479880,\n",
       " 2314411,\n",
       " 2314412,\n",
       " 2314410,\n",
       " 1629830,\n",
       " 1570830,\n",
       " 2214820,\n",
       " 2214826,\n",
       " 2214825,\n",
       " 2214830,\n",
       " 668580,\n",
       " 1054700,\n",
       " 2255820,\n",
       " 1638440,\n",
       " 1557180,\n",
       " 2022470,\n",
       " 2231890,\n",
       " 2201070,\n",
       " 2326980,\n",
       " 2302160,\n",
       " 2165380,\n",
       " 2279520,\n",
       " 2222820,\n",
       " 2067780,\n",
       " 2252960,\n",
       " 2303400,\n",
       " 2200780,\n",
       " 2292840,\n",
       " 1941350,\n",
       " 2286450,\n",
       " 2106080,\n",
       " 2070510,\n",
       " 2256790,\n",
       " 2105450,\n",
       " 1713990,\n",
       " 1342090,\n",
       " 2161450,\n",
       " 1203930,\n",
       " 2315500,\n",
       " 2151000,\n",
       " 1398210,\n",
       " 2298500,\n",
       " 2218970,\n",
       " 1950580,\n",
       " 2161110,\n",
       " 2188030,\n",
       " 2319990,\n",
       " 1929760,\n",
       " 2248390,\n",
       " 2165720,\n",
       " 1889040,\n",
       " 2186320,\n",
       " 2178570,\n",
       " 1646850,\n",
       " 2156620,\n",
       " 2014620,\n",
       " 2150580,\n",
       " 2291530,\n",
       " 2208300,\n",
       " 1895890,\n",
       " 2246550,\n",
       " 1201540,\n",
       " 1329880,\n",
       " 616820,\n",
       " 1906050,\n",
       " 2274930,\n",
       " 2178560,\n",
       " 493460,\n",
       " 2289160,\n",
       " 2301070,\n",
       " 2301370,\n",
       " 2145110,\n",
       " 1253610,\n",
       " 1992640,\n",
       " 1448820,\n",
       " 1938010,\n",
       " 2110620,\n",
       " 1413660,\n",
       " 2300390,\n",
       " 2202021,\n",
       " 1902850,\n",
       " 2230770,\n",
       " 1927250,\n",
       " 1296450,\n",
       " 2206150,\n",
       " 1592540,\n",
       " 2269320,\n",
       " 2286663,\n",
       " 2286652,\n",
       " 2078040,\n",
       " 2197890,\n",
       " 1517200,\n",
       " 1517201,\n",
       " 1517202,\n",
       " 736590,\n",
       " 2309205,\n",
       " 2084240,\n",
       " 1208590,\n",
       " 2294630,\n",
       " 1649240,\n",
       " 1857080,\n",
       " 1351080,\n",
       " 2080020,\n",
       " 2009860,\n",
       " 1500540,\n",
       " 1894430,\n",
       " 1601740,\n",
       " 1839300,\n",
       " 2061150,\n",
       " 2236820,\n",
       " 1998340,\n",
       " 2141440,\n",
       " 2253220,\n",
       " 1982340,\n",
       " 2184230,\n",
       " 2157000,\n",
       " 2295700,\n",
       " 2302490,\n",
       " 2241560,\n",
       " 2022910,\n",
       " 2022880,\n",
       " 2022920,\n",
       " 2011900,\n",
       " 2303720,\n",
       " 2302180,\n",
       " 1981610,\n",
       " 1946070,\n",
       " 1629910,\n",
       " 1737340,\n",
       " 2223240,\n",
       " 2218350,\n",
       " 1592290,\n",
       " 1345320,\n",
       " 1759520,\n",
       " 2314920,\n",
       " 2269820,\n",
       " 2269810,\n",
       " 2181930,\n",
       " 1818610,\n",
       " 1801110,\n",
       " 1747950,\n",
       " 2003050,\n",
       " 1947950,\n",
       " 2101280,\n",
       " 2100040,\n",
       " 2262910,\n",
       " 2074600,\n",
       " 2255140,\n",
       " 1885640,\n",
       " 1342080,\n",
       " 2306260,\n",
       " 990080,\n",
       " 1880832,\n",
       " 2060160,\n",
       " 2082620,\n",
       " 2251650,\n",
       " 2221820,\n",
       " 611190,\n",
       " 1984610,\n",
       " 2197760,\n",
       " 2297860,\n",
       " 2009528,\n",
       " 2241020,\n",
       " 2278920,\n",
       " 2251620,\n",
       " 2225530,\n",
       " 2222342,\n",
       " 2222341,\n",
       " 2283592,\n",
       " 2283591,\n",
       " 2283590,\n",
       " 2130060,\n",
       " 2234581,\n",
       " 327070,\n",
       " 1090100,\n",
       " 1535100,\n",
       " 2199200,\n",
       " 2237250,\n",
       " 2132450,\n",
       " 2107860,\n",
       " 2167450,\n",
       " 2167451,\n",
       " 2167453,\n",
       " 2167454,\n",
       " 2167460,\n",
       " 1709900,\n",
       " 2055290,\n",
       " 1769270,\n",
       " 2091960,\n",
       " 1482750,\n",
       " 2302930,\n",
       " 1305300,\n",
       " 2126990,\n",
       " 2289130,\n",
       " 2247340,\n",
       " 2007930,\n",
       " 2200190,\n",
       " 2116260,\n",
       " 2223020,\n",
       " 305900,\n",
       " 1979990,\n",
       " 1581770,\n",
       " 1094590,\n",
       " 1946010,\n",
       " 2274640,\n",
       " 1540960,\n",
       " 1983244,\n",
       " 2212330,\n",
       " 2278070,\n",
       " 2173760,\n",
       " 2225070,\n",
       " 2020030,\n",
       " 2153780,\n",
       " 1345890,\n",
       " 1603940,\n",
       " 1883090,\n",
       " 1694560,\n",
       " 1016360,\n",
       " 2235540,\n",
       " 1238450,\n",
       " 1343810,\n",
       " 1545430,\n",
       " 1990690,\n",
       " 1032700,\n",
       " 2099930,\n",
       " 1739650,\n",
       " 1475840,\n",
       " 1124080,\n",
       " 2063530,\n",
       " 1913620,\n",
       " 2200970,\n",
       " 2200010,\n",
       " 2071390,\n",
       " 1350780,\n",
       " 2234150,\n",
       " 1282150,\n",
       " 2152880,\n",
       " 957960,\n",
       " 427940,\n",
       " 695330,\n",
       " 1451190,\n",
       " 1761600,\n",
       " 2290690,\n",
       " 733110,\n",
       " 1618380,\n",
       " 1770080,\n",
       " 1148490,\n",
       " 1866880,\n",
       " 2192170,\n",
       " 1646910,\n",
       " 333811,\n",
       " 2095080,\n",
       " 2069180,\n",
       " 1760640,\n",
       " 1920100,\n",
       " 1560200,\n",
       " 2166140,\n",
       " 2113530,\n",
       " 2223130,\n",
       " 894620,\n",
       " 2267210,\n",
       " 1693980,\n",
       " 2164210,\n",
       " 2246350,\n",
       " 1930920,\n",
       " 2184790,\n",
       " 2184791,\n",
       " 2231450,\n",
       " 1334730,\n",
       " 2239550,\n",
       " 1922631,\n",
       " 2243640,\n",
       " 1338840,\n",
       " 1821680,\n",
       " 2287580,\n",
       " 1724390,\n",
       " 2259440,\n",
       " 2237070,\n",
       " 2250340,\n",
       " 333817,\n",
       " 1449920,\n",
       " 1953860,\n",
       " 870200,\n",
       " 2112232,\n",
       " 2274510,\n",
       " 2179800,\n",
       " 2076280,\n",
       " 1817230,\n",
       " 2167010,\n",
       " 1069660,\n",
       " 2261790,\n",
       " 2101250,\n",
       " 1703180,\n",
       " 2211110,\n",
       " 2206120,\n",
       " 1932160,\n",
       " 1818430,\n",
       " 1680880,\n",
       " 1675900,\n",
       " 2267480,\n",
       " 2170270,\n",
       " 1717640,\n",
       " 1878720,\n",
       " 2234580,\n",
       " 2198970,\n",
       " 2231410,\n",
       " 2199970,\n",
       " 2231380,\n",
       " 1948140,\n",
       " 2227130,\n",
       " 1042600,\n",
       " 1944660,\n",
       " 1734390,\n",
       " 1512590,\n",
       " 2230170,\n",
       " 2077380,\n",
       " 1681510,\n",
       " 2158670,\n",
       " 2157060,\n",
       " 1971260,\n",
       " 1891600,\n",
       " 1956710,\n",
       " 2150830,\n",
       " 2261240,\n",
       " 1547000,\n",
       " 2061330,\n",
       " 1247740,\n",
       " 1579020,\n",
       " 1933390,\n",
       " 1200570,\n",
       " 2057783,\n",
       " 1519060,\n",
       " 2215540,\n",
       " 2202500,\n",
       " 1201270,\n",
       " 2223590,\n",
       " 1571580,\n",
       " 333816,\n",
       " 1606130,\n",
       " 1809700,\n",
       " 1420350,\n",
       " 2228880,\n",
       " 402710,\n",
       " 1696960,\n",
       " 2282670,\n",
       " 1486440,\n",
       " 2158500,\n",
       " 2200640,\n",
       " 1036240,\n",
       " 2271911,\n",
       " 2225120,\n",
       " 1561380,\n",
       " 1318740,\n",
       " 1254320,\n",
       " 1903970,\n",
       " 2058200,\n",
       " 2263510,\n",
       " 2193911,\n",
       " 2193910,\n",
       " 2254600,\n",
       " 2261870,\n",
       " 1573280,\n",
       " 1185600,\n",
       " 2171310,\n",
       " 1638390,\n",
       " 1933990,\n",
       " 2216600,\n",
       " 1560250,\n",
       " 1963370,\n",
       " 1933660,\n",
       " 2263460,\n",
       " 2270640,\n",
       " 1422130,\n",
       " 1143860,\n",
       " 2246400,\n",
       " 2194660,\n",
       " 2189640,\n",
       " 2242760,\n",
       " 2237000,\n",
       " 2158740,\n",
       " 1710100,\n",
       " 2265790,\n",
       " 2163850,\n",
       " 814000,\n",
       " 1452070,\n",
       " 2222570,\n",
       " 2221490,\n",
       " 1812300,\n",
       " 1125710,\n",
       " 1942010,\n",
       " 1694510,\n",
       " 1978330,\n",
       " 2254000,\n",
       " 1916610,\n",
       " 1867530,\n",
       " 1455910,\n",
       " 1741400,\n",
       " 1786230,\n",
       " 2161440,\n",
       " 1972410,\n",
       " 1790370,\n",
       " 2188520,\n",
       " 1319550,\n",
       " 1108000,\n",
       " 1166830,\n",
       " 1261430,\n",
       " 1647420,\n",
       " 1972550,\n",
       " 1952930,\n",
       " 2242220,\n",
       " 1125390,\n",
       " 1050260,\n",
       " 1222300,\n",
       " 1969060,\n",
       " 1912140,\n",
       " 1799370,\n",
       " 2262781,\n",
       " 2262780,\n",
       " 1184140,\n",
       " 1858750,\n",
       " 2120900,\n",
       " 2139440,\n",
       " 2095300,\n",
       " 1924940,\n",
       " 2113900,\n",
       " 2249160,\n",
       " 770810,\n",
       " 2185780,\n",
       " 1404850,\n",
       " 2229990,\n",
       " 1627680,\n",
       " 1364760,\n",
       " 2226750,\n",
       " 2215260,\n",
       " 2182590,\n",
       " 2184870,\n",
       " 2053670,\n",
       " 2199580,\n",
       " 1533390,\n",
       " 2220480,\n",
       " 1392091,\n",
       " 2238350,\n",
       " 2069800,\n",
       " 2242260,\n",
       " 2221282,\n",
       " 2217730,\n",
       " 2178590,\n",
       " 2196790,\n",
       " 2260410,\n",
       " 2240660,\n",
       " 1070840,\n",
       " 2241860,\n",
       " 1829380,\n",
       " 1926620,\n",
       " 2251450,\n",
       " 2217550,\n",
       " 1548350,\n",
       " 1452210,\n",
       " 1990050,\n",
       " 2165690,\n",
       " 2210670,\n",
       " 2242100,\n",
       " 1709730,\n",
       " 2240440,\n",
       " 1603640,\n",
       " 2119922,\n",
       " 1098400,\n",
       " 2007210,\n",
       " 2251130,\n",
       " 2229750,\n",
       " 2241030,\n",
       " 2177150,\n",
       " 2210190,\n",
       " 2242530,\n",
       " 1273440,\n",
       " 1456470,\n",
       " 2239300,\n",
       " 2127791,\n",
       " 1031460,\n",
       " 2000040,\n",
       " 2124380,\n",
       " 659540,\n",
       " 2216360,\n",
       " 1856030,\n",
       " 2236140,\n",
       " 2122253,\n",
       " 2232231,\n",
       " 2232230,\n",
       " 1477070,\n",
       " 2235390,\n",
       " 1723260,\n",
       " 2136670,\n",
       " 2022180,\n",
       " 1399720,\n",
       " 2014780,\n",
       " 2004320,\n",
       " 1498040,\n",
       " 1012110,\n",
       " 1761900,\n",
       " 2243660,\n",
       " 1907380,\n",
       " 2214600,\n",
       " 1995590,\n",
       " 2228890,\n",
       " 2206340,\n",
       " 1731081,\n",
       " 2099080,\n",
       " 1529930,\n",
       " 1643100,\n",
       " 2221920,\n",
       " 2229460,\n",
       " 1837750,\n",
       " 2068280,\n",
       " 2203420,\n",
       " 1585220,\n",
       " 1578160,\n",
       " 2230760,\n",
       " 2218650,\n",
       " 1510460,\n",
       " 2235280,\n",
       " 2235282,\n",
       " 2235284,\n",
       " 2217400,\n",
       " 2235760,\n",
       " 2165500,\n",
       " 1532690,\n",
       " 2175800,\n",
       " 1429500,\n",
       " 1679220,\n",
       " 2222081,\n",
       " 2222080,\n",
       " 2220671,\n",
       " 1920480,\n",
       " 2243460,\n",
       " 1591450,\n",
       " 2225880,\n",
       " 2225881,\n",
       " 2225882,\n",
       " 2225883,\n",
       " 2196120,\n",
       " 1586800,\n",
       " 1750770,\n",
       " 1124260,\n",
       " 2076220,\n",
       " 1970460,\n",
       " 1862690,\n",
       " 1643180,\n",
       " 2211280,\n",
       " 2173400,\n",
       " 2011980,\n",
       " 1210320,\n",
       " 1608070,\n",
       " 2130960,\n",
       " 2176130,\n",
       " 2101382,\n",
       " 2233132,\n",
       " 2233131,\n",
       " 1623070,\n",
       " 2228200,\n",
       " 2160330,\n",
       " 2199210,\n",
       " 2148903,\n",
       " 2148901,\n",
       " 2148904,\n",
       " 1583230,\n",
       " 2179360,\n",
       " 1655960,\n",
       " 2152630,\n",
       " 935400,\n",
       " 1935660,\n",
       " 1823930,\n",
       " 1961460,\n",
       " 2200740,\n",
       " 2151290,\n",
       " 674020,\n",
       " 2123140,\n",
       " 1702390,\n",
       " 1818450,\n",
       " 2209641,\n",
       " 2209640,\n",
       " 1985420,\n",
       " 2196980,\n",
       " 2098090,\n",
       " 1766740,\n",
       " 1772310,\n",
       " 2190390,\n",
       " 1973730,\n",
       " 2121260,\n",
       " 1960570,\n",
       " 1290750,\n",
       " 2226120,\n",
       " 2228650,\n",
       " 2222670,\n",
       " 2175260,\n",
       " 1740930,\n",
       " 2223290,\n",
       " 2222650,\n",
       " 2231740,\n",
       " 2159830,\n",
       " 1229240,\n",
       " 2065810,\n",
       " 2177430,\n",
       " 2154170,\n",
       " 2239220,\n",
       " 2218370,\n",
       " 1113120,\n",
       " 1550270,\n",
       " 2067790,\n",
       " 1620290,\n",
       " 1265800,\n",
       " 2228400,\n",
       " 1948800,\n",
       " 2210140,\n",
       " 1807200,\n",
       " 2208920,\n",
       " 2215322,\n",
       " 2215321,\n",
       " 2215320,\n",
       " 2210142,\n",
       " 1269710,\n",
       " 736820,\n",
       " 1321680,\n",
       " 2101940,\n",
       " 1656420,\n",
       " 1884560,\n",
       " 2126610,\n",
       " 2161720,\n",
       " 758870,\n",
       " 975370,\n",
       " 2175550,\n",
       " 919260,\n",
       " 2198872,\n",
       " 2167630,\n",
       " 1294660,\n",
       " 1531430,\n",
       " 2091330,\n",
       " 2095000,\n",
       " 1498140,\n",
       " 2006470,\n",
       " 2128920,\n",
       " 1662080,\n",
       " 2220810,\n",
       " 1551560,\n",
       " 2177070,\n",
       " 1958731,\n",
       " 2209680,\n",
       " 1949960,\n",
       " 2091500,\n",
       " 2189290,\n",
       " 1334110,\n",
       " 1846460,\n",
       " 1766540,\n",
       " 1846380,\n",
       " 368260,\n",
       " 1544020,\n",
       " 1274230,\n",
       " 1983243,\n",
       " 580640,\n",
       " 2214250,\n",
       " 2220350,\n",
       " 1722860,\n",
       " 2098130,\n",
       " 2162190,\n",
       " 1066760,\n",
       " 2012140,\n",
       " 2186250,\n",
       " 1230000,\n",
       " 2200730,\n",
       " 1996731,\n",
       " 1996730,\n",
       " 1996720,\n",
       " 961200,\n",
       " 1847510,\n",
       " 2095240,\n",
       " 1830040,\n",
       " 2186650,\n",
       " 2193220,\n",
       " 1361210,\n",
       " 1981790,\n",
       " 1730260,\n",
       " 1961370,\n",
       " 2116850,\n",
       " 2231240,\n",
       " 2096680,\n",
       " 1880930,\n",
       " 2212540,\n",
       " 1963080,\n",
       " 2057770,\n",
       " 2139271,\n",
       " 2139269,\n",
       " 2139272,\n",
       " 2139270,\n",
       " 2139267,\n",
       " 2139268,\n",
       " 2139266,\n",
       " 2139265,\n",
       " 2139264,\n",
       " 2139263,\n",
       " 2139262,\n",
       " 1912380,\n",
       " 2139261,\n",
       " 2210470,\n",
       " 1724942,\n",
       " 2215080,\n",
       " 2138210,\n",
       " 1983690,\n",
       " 2222200,\n",
       " 1711610,\n",
       " 1919140,\n",
       " 1804847,\n",
       " 1882550,\n",
       " 2007270,\n",
       " 2141010,\n",
       " 1491000,\n",
       " 2020860,\n",
       " 2218810,\n",
       " 2081051,\n",
       " 2133154,\n",
       " 2133152,\n",
       " 2133151,\n",
       " 2133149,\n",
       " 2133148,\n",
       " 2133144,\n",
       " 2133124,\n",
       " 2133161,\n",
       " 2133160,\n",
       " 2133159,\n",
       " 2133158,\n",
       " 2133156,\n",
       " 2133155,\n",
       " 1527890,\n",
       " 2127790,\n",
       " 2198460,\n",
       " 2179380,\n",
       " 2220832,\n",
       " 2198470,\n",
       " 1286580,\n",
       " 2184800,\n",
       " 1065310,\n",
       " 844670,\n",
       " 2158250,\n",
       " 1231840,\n",
       " 2154970,\n",
       " 674090,\n",
       " 2089350,\n",
       " 1131720,\n",
       " 2198800,\n",
       " 2108900,\n",
       " 1708990,\n",
       " 2111040,\n",
       " 2123890,\n",
       " 1817190,\n",
       " 2144530,\n",
       " 1567020,\n",
       " 2012100,\n",
       " 1947070,\n",
       " 2062373,\n",
       " 2062372,\n",
       " 2062371,\n",
       " 2062370,\n",
       " 1380220,\n",
       " 2096610,\n",
       " 2096600,\n",
       " 2160020,\n",
       " 715400,\n",
       " 2179230,\n",
       " 2074480,\n",
       " 2222410,\n",
       " 2200971,\n",
       " 1297490,\n",
       " 2105000,\n",
       " 1962430,\n",
       " 1881420,\n",
       " 2139260,\n",
       " 1887930,\n",
       " 642770,\n",
       " 2106810,\n",
       " 2164540,\n",
       " 1982150,\n",
       " 1981884,\n",
       " 1998140,\n",
       " 2136620,\n",
       " 943370,\n",
       " 1465750,\n",
       " 2187930,\n",
       " 2150631,\n",
       " 2208010,\n",
       " 2188490,\n",
       " 1782120,\n",
       " 2144760,\n",
       " 2144481,\n",
       " 2144483,\n",
       " 2144480,\n",
       " 2144482,\n",
       " 1063660,\n",
       " 1205520,\n",
       " 1671410,\n",
       " 1184820,\n",
       " 2195630,\n",
       " 973230,\n",
       " 1493520,\n",
       " 1266340,\n",
       " 1257280,\n",
       " 2024410,\n",
       " 1865060,\n",
       " 2100430,\n",
       " 2167220,\n",
       " 2070220,\n",
       " 2013360,\n",
       " 2196290,\n",
       " 1451090,\n",
       " 2156750,\n",
       " 1963210,\n",
       " 2025840,\n",
       " 1939160,\n",
       " 2171280,\n",
       " 1919470,\n",
       " 2078780,\n",
       " 1975340,\n",
       " 2201340,\n",
       " 2113980,\n",
       " 1932743,\n",
       " 1932742,\n",
       " 2025070,\n",
       " 1287530,\n",
       " 1849900,\n",
       " 1934530,\n",
       " 1318970,\n",
       " 1134700,\n",
       " 2009550,\n",
       " 997010,\n",
       " 1975590,\n",
       " 1701800,\n",
       " 1364210,\n",
       " 1875310,\n",
       " 2161540,\n",
       " 962090,\n",
       " 2167580,\n",
       " 1537624,\n",
       " 2070550,\n",
       " 1833990,\n",
       " 2112231,\n",
       " 1285060,\n",
       " 1937470,\n",
       " 1981570,\n",
       " 2130950,\n",
       " 1629520,\n",
       " 2157340,\n",
       " 1237320,\n",
       " 2017220,\n",
       " 1904540,\n",
       " 1967650,\n",
       " 986040,\n",
       " 1614550,\n",
       " 2066020,\n",
       " 1327920,\n",
       " 2077650,\n",
       " 1622770,\n",
       " 1816300,\n",
       " 2088340,\n",
       " 2065570,\n",
       " 1474740,\n",
       " 1832070,\n",
       " 1502190,\n",
       " 1371560,\n",
       " 1067220,\n",
       " 841190,\n",
       " 2146190,\n",
       " 347800,\n",
       " 1803400,\n",
       " 1951940,\n",
       " 1577250,\n",
       " 2165590,\n",
       " 1953520,\n",
       " 1730590,\n",
       " 2193450,\n",
       " 1515210,\n",
       " 685240,\n",
       " 2007530,\n",
       " 848080,\n",
       " 2119490,\n",
       " 1492730,\n",
       " 2157130,\n",
       " 2150634,\n",
       " 1673630,\n",
       " 2175700,\n",
       " 1418360,\n",
       " 1336490,\n",
       " 2181720,\n",
       " 2105660,\n",
       " 1460220,\n",
       " 2009350,\n",
       " 2130530,\n",
       " 1739070,\n",
       " 777470,\n",
       " 2099110,\n",
       " 429790,\n",
       " 1972400,\n",
       " 1931950,\n",
       " 1938090,\n",
       " 2069310,\n",
       " 1776380,\n",
       " 1918040,\n",
       " 1004370,\n",
       " 1731080,\n",
       " 1599660,\n",
       " 1262350,\n",
       " 1990980,\n",
       " 1937570,\n",
       " 2172840,\n",
       " 1868140,\n",
       " 1300920,\n",
       " 1171320,\n",
       " 1856750,\n",
       " 1939640,\n",
       " 2172170,\n",
       " 2199220,\n",
       " 2175450,\n",
       " 2126140,\n",
       " 1925970,\n",
       " 529340,\n",
       " 2154820,\n",
       " 1740660,\n",
       " 2178630,\n",
       " 2145870,\n",
       " 2150950,\n",
       " 2133640,\n",
       " 2074240,\n",
       " 2177500,\n",
       " 1797930,\n",
       " 2144761,\n",
       " 2178200,\n",
       " 261550,\n",
       " ...]"
      ]
     },
     "execution_count": 8,
     "metadata": {},
     "output_type": "execute_result"
    }
   ],
   "source": [
    "ids"
   ]
  },
  {
   "cell_type": "code",
   "execution_count": 9,
   "id": "4bfba9e4",
   "metadata": {
    "scrolled": true
   },
   "outputs": [
    {
     "data": {
      "text/plain": [
       "1643320"
      ]
     },
     "execution_count": 9,
     "metadata": {},
     "output_type": "execute_result"
    }
   ],
   "source": [
    "ids[0]"
   ]
  },
  {
   "cell_type": "code",
   "execution_count": 10,
   "id": "9a189628",
   "metadata": {},
   "outputs": [],
   "source": [
    "# Connect to Steam API\n",
    "# KEY = '7A1B377B4A2EAD44DD7375EF049494AC'\n",
    "KEY = keys.get('key')\n",
    "steam = Steam(KEY)"
   ]
  },
  {
   "cell_type": "code",
   "execution_count": 11,
   "id": "7007221e",
   "metadata": {},
   "outputs": [
    {
     "data": {
      "text/plain": [
       "'{\"1643320\": {\"success\": true, \"data\": {\"type\": \"game\", \"name\": \"S.T.A.L.K.E.R. 2: Heart of Chornobyl\", \"steam_appid\": 1643320, \"required_age\": 0, \"is_free\": false, \"controller_support\": \"full\", \"detailed_description\": \"<h1>ULTIMATE EDITION</h1><p><img src=\\\\\"https://cdn.akamai.steamstatic.com/steam/apps/1643320/extras/S2_ultimate_steam.png?t=1676898117\\\\\" /><h2 class=\\\\\"bb_tag\\\\\">ULTIMATE EDITION INCLUDES:</h2><ul class=\\\\\"bb_ul\\\\\"><li>Season Pass With Access to All Future DLCs, Including 2 Story Expansions <br></li><li>Additional Story-Based Side Quest<br></li><li>Single Player: 1 Costume Skin &amp; 3 Weapon Skins<br></li><li>Multiplayer: 3 Costume Skins &amp; 7 Weapon Skins for Multiplayer<br></li><li>Digital Artbook<br></li><li>Digital Soundtrack</li></ul><h2 class=\\\\\"bb_tag\\\\\">PRE-ORDER ULTIMATE EDITION NOW TO GET EXCLUSIVE BONUSES:</h2><ul class=\\\\\"bb_ul\\\\\"><li>Extended Campfire Content: more guitar tunes and tales that you can hear in the game around the stalkers\\' campfires<br></li><li>\\'Early Bird\\' Weapon Skin<br></li><li>\\'Early Bird\\' Costume Skin<br></li><li>\\'Early Bird\\' Multiplayer Badge<br></li><li>Steam Pack: Animated Avatar, Animated Avatar Frame &amp; Animated Profile Background</li></ul></p><br><h1>DELUXE EDITION</h1><p><img src=\\\\\"https://cdn.akamai.steamstatic.com/steam/apps/1643320/extras/S2_deluxe_steam.png?t=1676898117\\\\\" /><h2 class=\\\\\"bb_tag\\\\\">DELUXE EDITION INCLUDES:</h2><ul class=\\\\\"bb_ul\\\\\"><li>Additional Story-Based Side Quest<br></li><li>Single Player: 1 Costume Skin &amp; 3 Weapon Skins<br></li><li>Multiplayer: 2 Costume Skins &amp; 3 Weapon Skins<br></li><li>Digital Artbook<br></li><li>Digital Soundtrack</li></ul><h2 class=\\\\\"bb_tag\\\\\">PRE-ORDER DELUXE EDITION NOW TO GET EXCLUSIVE BONUSES:</h2><ul class=\\\\\"bb_ul\\\\\"><li>Extended Campfire Content: more guitar tunes and tales that you can hear in the game around the stalkers\\' campfires<br></li><li>\\'Early Bird\\' Weapon Skin<br></li><li>\\'Early Bird\\' Costume Skin<br></li><li>\\'Early Bird\\' Multiplayer Badge<br></li><li>Steam Pack: Animated Avatar, Animated Avatar Frame &amp; Animated Profile Background</li></ul></p><br><h1>Pre-Purchase Offer</h1><p><img src=\\\\\"https://cdn.akamai.steamstatic.com/steam/apps/1643320/extras/S2_616x353.png?t=1676898117\\\\\" /><h2 class=\\\\\"bb_tag\\\\\">PRE-ORDER STANDARD EDITION NOW TO GET EXCLUSIVE BONUSES:</h2><ul class=\\\\\"bb_ul\\\\\"><li>Extended Campfire Content: more guitar tunes and tales that you can hear in the game around the stalkers\\' campfires<br></li><li>\\'Early bird\\' Weapon Skin<br></li><li>\\'Early bird\\' Costume Skin<br></li><li>\\'Early Bird\\' Multiplayer Badge<br></li><li>Steam Pack: Animated Avatar, Animated Avatar Frame &amp; Animated Profile Background</li></ul></p><br><h1>About the Game</h1>Chornobyl Exclusion Zone has changed dramatically after the second massive explosion in year 2006. Violent mutants, deadly anomalies, warring factions have made the Zone a very tough place to survive. Nevertheless, artifacts of unbelievable value attracted many people called S.T.A.L.K.E.R.s, who entered the Zone for their own risk striving to make a fortune out of it or even to find the Truth concealed in the Heart of Chornobyl.<h2 class=\\\\\"bb_tag\\\\\">EPIC NONLINEAR STORY IN SEAMLESS OPEN WORLD</h2>Take over a role of the lone stalker and explore photorealistic seamless open world in a 64-km\\\\u00b2 radioactive zone with a variety of environments that reveal post-apocalyptic atmosphere from different angles. Make your way through the Zone to define your destiny as you choose your paths within highly branching epic story.<br> <br><br><img src=\\\\\"https://cdn.akamai.steamstatic.com/steam/apps/1643320/extras/S.T.A.L.K.E.R.2_the_Zone.gif?t=1676898117\\\\\" /><h2 class=\\\\\"bb_tag\\\\\">VARIETY OF ENEMIES AND HUNDREDS OF WEAPON COMBINATIONS</h2>Meet members of different factions deciding who of them worth your friendship and who deserve a bullet. Engage intense gunfights with a variety of enemies that follow different tactics trying to outsmart you. Choose your preferable firearms from 30+ types of weapons with numerous modifications that allow creating hundreds of distinctive lethal combinations.<br> <br><br><img src=\\\\\"https://cdn.akamai.steamstatic.com/steam/apps/1643320/extras/S.T.A.L.K.E.R.2_gunfight.gif?t=1676898117\\\\\" /><h2 class=\\\\\"bb_tag\\\\\">LEGENDARY MUTANTS WITH DIFFERENT BEHAVIOUR MODELS</h2>Prepare to encounter horrifying mutated creatures that will try to slaughter you following different behaviour model. Each mutant may appear in different subtypes which makes their behaviour less predictible. Truly extreme danger represent regions with lairs with numerous mutants hunting in large groups.<br> <br><br><img src=\\\\\"https://cdn.akamai.steamstatic.com/steam/apps/1643320/extras/S.T.A.L.K.E.R.2_bloodsucker.gif?t=1676898117\\\\\" /><h2 class=\\\\\"bb_tag\\\\\">ARTIFACTS OF INCREDIBLE VALUE AND UNFORGIVING ANOMALIES</h2>The most valuable artifacts and secrets of the Zone are hidden in the most dangerous places. Beware of the hazardous anomalies and unique devastating arch-anomalies as you hunt for highly valuable artifacts scattered around the Zone. Will you dare to unveil the mysteries of the Zone that took lives of many others before you?<br> <br><br><img src=\\\\\"https://cdn.akamai.steamstatic.com/steam/apps/1643320/extras/S.T.A.L.K.E.R.2_artifact_hunting.gif?t=1676898117\\\\\" /><h2 class=\\\\\"bb_tag\\\\\">Discover legendary S.T.A.L.K.E.R. universe and experience:</h2><ul class=\\\\\"bb_ul\\\\\"><li>Unique gameplay built on a blend of FPS, horror and immersive sim<br></li><li>Non-linear story with the variety of paths that lead to one of the several endings<br></li><li>Benchmark-setting graphics developed using cutting-edge photogrammetric and scanning technologies<br></li><li>Advanced artificial intelligence systems that will keep engaged even the most hard-boiled players<br></li><li>Life-simulating system \\\\u201cA-life 2.0\\\\u201d that makes the game world feel alive as never before<br></li><li>Immersive survival mechanics like hunger, sleeping, bleeding, radiation effects that enrich the gameplay<br></li><li>Dynamic day-night cycle and weather will add even more realism to the gameplay experience<br></li><li>Mod support giving the freedom to the creative players to extend and enrich the game universe<br></li><li>Multiplayer mode, that will be added soon after release as a free update</li></ul><h2 class=\\\\\"bb_tag\\\\\">GOOD HUNTING, STALKER!</h2> <br><br><img src=\\\\\"https://cdn.akamai.steamstatic.com/steam/apps/1643320/extras/S.T.A.L.K.E.R.2_campfire.gif?t=1676898117\\\\\" />\", \"about_the_game\": \"Chornobyl Exclusion Zone has changed dramatically after the second massive explosion in year 2006. Violent mutants, deadly anomalies, warring factions have made the Zone a very tough place to survive. Nevertheless, artifacts of unbelievable value attracted many people called S.T.A.L.K.E.R.s, who entered the Zone for their own risk striving to make a fortune out of it or even to find the Truth concealed in the Heart of Chornobyl.<h2 class=\\\\\"bb_tag\\\\\">EPIC NONLINEAR STORY IN SEAMLESS OPEN WORLD</h2>Take over a role of the lone stalker and explore photorealistic seamless open world in a 64-km\\\\u00b2 radioactive zone with a variety of environments that reveal post-apocalyptic atmosphere from different angles. Make your way through the Zone to define your destiny as you choose your paths within highly branching epic story.<br> <br><br><img src=\\\\\"https://cdn.akamai.steamstatic.com/steam/apps/1643320/extras/S.T.A.L.K.E.R.2_the_Zone.gif?t=1676898117\\\\\" /><h2 class=\\\\\"bb_tag\\\\\">VARIETY OF ENEMIES AND HUNDREDS OF WEAPON COMBINATIONS</h2>Meet members of different factions deciding who of them worth your friendship and who deserve a bullet. Engage intense gunfights with a variety of enemies that follow different tactics trying to outsmart you. Choose your preferable firearms from 30+ types of weapons with numerous modifications that allow creating hundreds of distinctive lethal combinations.<br> <br><br><img src=\\\\\"https://cdn.akamai.steamstatic.com/steam/apps/1643320/extras/S.T.A.L.K.E.R.2_gunfight.gif?t=1676898117\\\\\" /><h2 class=\\\\\"bb_tag\\\\\">LEGENDARY MUTANTS WITH DIFFERENT BEHAVIOUR MODELS</h2>Prepare to encounter horrifying mutated creatures that will try to slaughter you following different behaviour model. Each mutant may appear in different subtypes which makes their behaviour less predictible. Truly extreme danger represent regions with lairs with numerous mutants hunting in large groups.<br> <br><br><img src=\\\\\"https://cdn.akamai.steamstatic.com/steam/apps/1643320/extras/S.T.A.L.K.E.R.2_bloodsucker.gif?t=1676898117\\\\\" /><h2 class=\\\\\"bb_tag\\\\\">ARTIFACTS OF INCREDIBLE VALUE AND UNFORGIVING ANOMALIES</h2>The most valuable artifacts and secrets of the Zone are hidden in the most dangerous places. Beware of the hazardous anomalies and unique devastating arch-anomalies as you hunt for highly valuable artifacts scattered around the Zone. Will you dare to unveil the mysteries of the Zone that took lives of many others before you?<br> <br><br><img src=\\\\\"https://cdn.akamai.steamstatic.com/steam/apps/1643320/extras/S.T.A.L.K.E.R.2_artifact_hunting.gif?t=1676898117\\\\\" /><h2 class=\\\\\"bb_tag\\\\\">Discover legendary S.T.A.L.K.E.R. universe and experience:</h2><ul class=\\\\\"bb_ul\\\\\"><li>Unique gameplay built on a blend of FPS, horror and immersive sim<br></li><li>Non-linear story with the variety of paths that lead to one of the several endings<br></li><li>Benchmark-setting graphics developed using cutting-edge photogrammetric and scanning technologies<br></li><li>Advanced artificial intelligence systems that will keep engaged even the most hard-boiled players<br></li><li>Life-simulating system \\\\u201cA-life 2.0\\\\u201d that makes the game world feel alive as never before<br></li><li>Immersive survival mechanics like hunger, sleeping, bleeding, radiation effects that enrich the gameplay<br></li><li>Dynamic day-night cycle and weather will add even more realism to the gameplay experience<br></li><li>Mod support giving the freedom to the creative players to extend and enrich the game universe<br></li><li>Multiplayer mode, that will be added soon after release as a free update</li></ul><h2 class=\\\\\"bb_tag\\\\\">GOOD HUNTING, STALKER!</h2> <br><br><img src=\\\\\"https://cdn.akamai.steamstatic.com/steam/apps/1643320/extras/S.T.A.L.K.E.R.2_campfire.gif?t=1676898117\\\\\" />\", \"short_description\": \"Discover the vast Chornobyl Exclusion Zone full of dangerous enemies, deadly anomalies and powerful artifacts. Unveil your own epic story as you make your way to the Heart of Chornobyl. Make your choices wisely, as they will determine your fate in the end.\", \"supported_languages\": \"English<strong>*</strong>, French, Italian, German, Spanish - Spain, Japanese, Korean, Polish, Portuguese - Brazil, Russian, Simplified Chinese, Traditional Chinese, Ukrainian<strong>*</strong>, Arabic, Czech, Spanish - Latin America, Turkish<br><strong>*</strong>languages with full audio support\", \"reviews\": \"\\\\u201cPretty impressive, looking unmistakably S.T.A.L.K.E.R.\\\\u201d<br><a href=\\\\\"https://kotaku.com/xbox-and-bethesda-at-e3-2021-the-biggest-announcements-1847089754\\\\\" target=\\\\\"_blank\\\\\" rel=\\\\\"\\\\\"  >KOTAKU</a><br><br>\\\\u201cThe grim post-apocalyptic shooter is set to offer another brutal tour of the Chernobyl dead zone\\\\u201d<br><a href=\\\\\"https://steamcommunity.com/linkfilter/?url=https://www.theguardian.com/games/2021/jun/24/e3-2021-20-best-games\\\\\" target=\\\\\"_blank\\\\\" rel=\\\\\" noopener\\\\\"  >THE GUARDIAN</a><br><br>\\\\u201cActually looks amazing\\\\u201d<br><a href=\\\\\"https://steamcommunity.com/linkfilter/?url=https://www.eurogamer.net/articles/2021-06-16-our-favourite-games-of-e3-2021\\\\\" target=\\\\\"_blank\\\\\" rel=\\\\\" noopener\\\\\"  >EUROGAMER</a><br>\", \"header_image\": \"https://cdn.akamai.steamstatic.com/steam/apps/1643320/header.jpg?t=1676898117\", \"website\": \"https://www.stalker2.com/\", \"pc_requirements\": {\"minimum\": \"<strong>Minimum:</strong><br><ul class=\\\\\"bb_ul\\\\\"><li><strong>OS:</strong> Windows 10<br></li><li><strong>Processor:</strong> AMD Ryzen 5 1600X / Intel Core i5-7600K<br></li><li><strong>Memory:</strong> 8 GB RAM<br></li><li><strong>Graphics:</strong> AMD Radeon RX 580 8GB / NVIDIA GeForce GTX 1060 6GB<br></li><li><strong>Storage:</strong> 150 GB available space<br></li><li><strong>Additional Notes:</strong> SSD</li></ul>\", \"recommended\": \"<strong>Recommended:</strong><br><ul class=\\\\\"bb_ul\\\\\"><li><strong>OS:</strong> Windows 10<br></li><li><strong>Processor:</strong> AMD Ryzen 7 3700X / Intel Core i7-9700K<br></li><li><strong>Memory:</strong> 16 GB RAM<br></li><li><strong>Graphics:</strong> AMD Radeon RX 5700 XT 8GB / NVIDIA GeForce RTX 2070 SUPER 8GB / NVIDIA GeForce GTX 1080 Ti 11GB<br></li><li><strong>Storage:</strong> 150 GB available space<br></li><li><strong>Additional Notes:</strong> SSD</li></ul>\"}, \"mac_requirements\": [], \"linux_requirements\": [], \"legal_notice\": \"S.T.A.L.K.E.R. 2 is registered trademark of GSC Game World. All rights reserved.\", \"developers\": [\"GSC Game World\"], \"publishers\": [\"GSC Game World\"], \"price_overview\": {\"currency\": \"EUR\", \"initial\": 5999, \"final\": 5999, \"discount_percent\": 0, \"initial_formatted\": \"\", \"final_formatted\": \"59,99\\\\u20ac\"}, \"packages\": [583675, 589054, 589055], \"package_groups\": [{\"name\": \"default\", \"title\": \"Buy S.T.A.L.K.E.R. 2: Heart of Chornobyl\", \"description\": \"\", \"selection_text\": \"Select a purchase option\", \"save_text\": \"\", \"display_type\": 0, \"is_recurring_subscription\": \"false\", \"subs\": [{\"packageid\": 583675, \"percent_savings_text\": \" \", \"percent_savings\": 0, \"option_text\": \"S.T.A.L.K.E.R. 2: Heart of Chornobyl - 59,99\\\\u20ac\", \"option_description\": \"\", \"can_get_free_license\": \"0\", \"is_free_license\": false, \"price_in_cents_with_discount\": 5999}, {\"packageid\": 589054, \"percent_savings_text\": \" \", \"percent_savings\": 0, \"option_text\": \"S.T.A.L.K.E.R. 2: Heart of Chornobyl - Deluxe Edition - 79,99\\\\u20ac\", \"option_description\": \"\", \"can_get_free_license\": \"0\", \"is_free_license\": false, \"price_in_cents_with_discount\": 7999}, {\"packageid\": 589055, \"percent_savings_text\": \" \", \"percent_savings\": 0, \"option_text\": \"S.T.A.L.K.E.R. 2: Heart of Chornobyl - Ultimate Edition - 109,99\\\\u20ac\", \"option_description\": \"\", \"can_get_free_license\": \"0\", \"is_free_license\": false, \"price_in_cents_with_discount\": 10999}]}], \"platforms\": {\"windows\": true, \"mac\": false, \"linux\": false}, \"categories\": [{\"id\": 2, \"description\": \"Single-player\"}, {\"id\": 1, \"description\": \"Multi-player\"}, {\"id\": 22, \"description\": \"Steam Achievements\"}, {\"id\": 28, \"description\": \"Full controller support\"}, {\"id\": 29, \"description\": \"Steam Trading Cards\"}, {\"id\": 23, \"description\": \"Steam Cloud\"}], \"genres\": [{\"id\": \"1\", \"description\": \"Action\"}, {\"id\": \"25\", \"description\": \"Adventure\"}, {\"id\": \"3\", \"description\": \"RPG\"}], \"screenshots\": [{\"id\": 0, \"path_thumbnail\": \"https://cdn.akamai.steamstatic.com/steam/apps/1643320/ss_2d9b6c473b71f90e7076f50f64ec396a644da452.600x338.jpg?t=1676898117\", \"path_full\": \"https://cdn.akamai.steamstatic.com/steam/apps/1643320/ss_2d9b6c473b71f90e7076f50f64ec396a644da452.1920x1080.jpg?t=1676898117\"}, {\"id\": 1, \"path_thumbnail\": \"https://cdn.akamai.steamstatic.com/steam/apps/1643320/ss_15c0d1940c6c3872e0d4e455f4d2da32c2028a18.600x338.jpg?t=1676898117\", \"path_full\": \"https://cdn.akamai.steamstatic.com/steam/apps/1643320/ss_15c0d1940c6c3872e0d4e455f4d2da32c2028a18.1920x1080.jpg?t=1676898117\"}, {\"id\": 2, \"path_thumbnail\": \"https://cdn.akamai.steamstatic.com/steam/apps/1643320/ss_3b56a4aea69f1d49d4871eeb1913f460f067a138.600x338.jpg?t=1676898117\", \"path_full\": \"https://cdn.akamai.steamstatic.com/steam/apps/1643320/ss_3b56a4aea69f1d49d4871eeb1913f460f067a138.1920x1080.jpg?t=1676898117\"}, {\"id\": 3, \"path_thumbnail\": \"https://cdn.akamai.steamstatic.com/steam/apps/1643320/ss_b9375dc730cb8a050e9da36e4fe779b34e5f44c5.600x338.jpg?t=1676898117\", \"path_full\": \"https://cdn.akamai.steamstatic.com/steam/apps/1643320/ss_b9375dc730cb8a050e9da36e4fe779b34e5f44c5.1920x1080.jpg?t=1676898117\"}, {\"id\": 4, \"path_thumbnail\": \"https://cdn.akamai.steamstatic.com/steam/apps/1643320/ss_98c6c34249e944e42fcb46481cac1f5d43457729.600x338.jpg?t=1676898117\", \"path_full\": \"https://cdn.akamai.steamstatic.com/steam/apps/1643320/ss_98c6c34249e944e42fcb46481cac1f5d43457729.1920x1080.jpg?t=1676898117\"}, {\"id\": 5, \"path_thumbnail\": \"https://cdn.akamai.steamstatic.com/steam/apps/1643320/ss_6a0d30d5fad86c12df46e59042efb55c9a4a3b53.600x338.jpg?t=1676898117\", \"path_full\": \"https://cdn.akamai.steamstatic.com/steam/apps/1643320/ss_6a0d30d5fad86c12df46e59042efb55c9a4a3b53.1920x1080.jpg?t=1676898117\"}, {\"id\": 6, \"path_thumbnail\": \"https://cdn.akamai.steamstatic.com/steam/apps/1643320/ss_1db36cee060cb6b9b468e3f64a3eb354d5a76472.600x338.jpg?t=1676898117\", \"path_full\": \"https://cdn.akamai.steamstatic.com/steam/apps/1643320/ss_1db36cee060cb6b9b468e3f64a3eb354d5a76472.1920x1080.jpg?t=1676898117\"}, {\"id\": 7, \"path_thumbnail\": \"https://cdn.akamai.steamstatic.com/steam/apps/1643320/ss_5daeb8b5e3692e9058b2f56de36aa5e0cf45da24.600x338.jpg?t=1676898117\", \"path_full\": \"https://cdn.akamai.steamstatic.com/steam/apps/1643320/ss_5daeb8b5e3692e9058b2f56de36aa5e0cf45da24.1920x1080.jpg?t=1676898117\"}, {\"id\": 8, \"path_thumbnail\": \"https://cdn.akamai.steamstatic.com/steam/apps/1643320/ss_742f5aabd44041fe7e412aa4ddf57dfb149877bf.600x338.jpg?t=1676898117\", \"path_full\": \"https://cdn.akamai.steamstatic.com/steam/apps/1643320/ss_742f5aabd44041fe7e412aa4ddf57dfb149877bf.1920x1080.jpg?t=1676898117\"}, {\"id\": 9, \"path_thumbnail\": \"https://cdn.akamai.steamstatic.com/steam/apps/1643320/ss_cd1d13f3d0a3e21cef796030c434f47e58a4fa1c.600x338.jpg?t=1676898117\", \"path_full\": \"https://cdn.akamai.steamstatic.com/steam/apps/1643320/ss_cd1d13f3d0a3e21cef796030c434f47e58a4fa1c.1920x1080.jpg?t=1676898117\"}, {\"id\": 10, \"path_thumbnail\": \"https://cdn.akamai.steamstatic.com/steam/apps/1643320/ss_3243f0dd0fa66791ec19a103f2d53f863420fd66.600x338.jpg?t=1676898117\", \"path_full\": \"https://cdn.akamai.steamstatic.com/steam/apps/1643320/ss_3243f0dd0fa66791ec19a103f2d53f863420fd66.1920x1080.jpg?t=1676898117\"}, {\"id\": 11, \"path_thumbnail\": \"https://cdn.akamai.steamstatic.com/steam/apps/1643320/ss_f88983d15a47aca6905b1d8b4ca093c81096c8d6.600x338.jpg?t=1676898117\", \"path_full\": \"https://cdn.akamai.steamstatic.com/steam/apps/1643320/ss_f88983d15a47aca6905b1d8b4ca093c81096c8d6.1920x1080.jpg?t=1676898117\"}, {\"id\": 12, \"path_thumbnail\": \"https://cdn.akamai.steamstatic.com/steam/apps/1643320/ss_1d8fd0eb5c837f702f57abcdc9e66f8b6008c83a.600x338.jpg?t=1676898117\", \"path_full\": \"https://cdn.akamai.steamstatic.com/steam/apps/1643320/ss_1d8fd0eb5c837f702f57abcdc9e66f8b6008c83a.1920x1080.jpg?t=1676898117\"}, {\"id\": 13, \"path_thumbnail\": \"https://cdn.akamai.steamstatic.com/steam/apps/1643320/ss_4cd83e653302f30b22bfeff5b0c897d803d77662.600x338.jpg?t=1676898117\", \"path_full\": \"https://cdn.akamai.steamstatic.com/steam/apps/1643320/ss_4cd83e653302f30b22bfeff5b0c897d803d77662.1920x1080.jpg?t=1676898117\"}, {\"id\": 14, \"path_thumbnail\": \"https://cdn.akamai.steamstatic.com/steam/apps/1643320/ss_9325ae1c546ba78595c54e75002e4b35b2d84ab3.600x338.jpg?t=1676898117\", \"path_full\": \"https://cdn.akamai.steamstatic.com/steam/apps/1643320/ss_9325ae1c546ba78595c54e75002e4b35b2d84ab3.1920x1080.jpg?t=1676898117\"}], \"movies\": [{\"id\": 256923250, \"name\": \"S.T.A.L.K.E.R. 2: Heart of Chornobyl - Come To Me Official Trailer\", \"thumbnail\": \"https://cdn.akamai.steamstatic.com/steam/apps/256923250/movie.293x165.jpg?t=1672344496\", \"webm\": {\"480\": \"http://cdn.akamai.steamstatic.com/steam/apps/256923250/movie480_vp9.webm?t=1672344496\", \"max\": \"http://cdn.akamai.steamstatic.com/steam/apps/256923250/movie_max_vp9.webm?t=1672344496\"}, \"mp4\": {\"480\": \"http://cdn.akamai.steamstatic.com/steam/apps/256923250/movie480.mp4?t=1672344496\", \"max\": \"http://cdn.akamai.steamstatic.com/steam/apps/256923250/movie_max.mp4?t=1672344496\"}, \"highlight\": true}, {\"id\": 256837730, \"name\": \"S.T.A.L.K.E.R. 2: Heart of Chornobyl \\\\u2013 Official Gameplay Trailer\", \"thumbnail\": \"https://cdn.akamai.steamstatic.com/steam/apps/256837730/movie.293x165.jpg?t=1647431449\", \"webm\": {\"480\": \"http://cdn.akamai.steamstatic.com/steam/apps/256837730/movie480_vp9.webm?t=1647431449\", \"max\": \"http://cdn.akamai.steamstatic.com/steam/apps/256837730/movie_max_vp9.webm?t=1647431449\"}, \"mp4\": {\"480\": \"http://cdn.akamai.steamstatic.com/steam/apps/256837730/movie480.mp4?t=1647431449\", \"max\": \"http://cdn.akamai.steamstatic.com/steam/apps/256837730/movie_max.mp4?t=1647431449\"}, \"highlight\": true}, {\"id\": 256891964, \"name\": \"S.T.A.L.K.E.R. 2: Heart Of Chornobyl \\\\u2013 Enter the Zone Official Trailer\", \"thumbnail\": \"https://cdn.akamai.steamstatic.com/steam/apps/256891964/movie.293x165.jpg?t=1672344224\", \"webm\": {\"480\": \"http://cdn.akamai.steamstatic.com/steam/apps/256891964/movie480_vp9.webm?t=1672344224\", \"max\": \"http://cdn.akamai.steamstatic.com/steam/apps/256891964/movie_max_vp9.webm?t=1672344224\"}, \"mp4\": {\"480\": \"http://cdn.akamai.steamstatic.com/steam/apps/256891964/movie480.mp4?t=1672344224\", \"max\": \"http://cdn.akamai.steamstatic.com/steam/apps/256891964/movie_max.mp4?t=1672344224\"}, \"highlight\": true}, {\"id\": 256837680, \"name\": \"S.T.A.L.K.E.R. 2: Heart of Chornobyl \\\\u2013 Official Gameplay Teaser\", \"thumbnail\": \"https://cdn.akamai.steamstatic.com/steam/apps/256837680/movie.293x165.jpg?t=1647431453\", \"webm\": {\"480\": \"http://cdn.akamai.steamstatic.com/steam/apps/256837680/movie480_vp9.webm?t=1647431453\", \"max\": \"http://cdn.akamai.steamstatic.com/steam/apps/256837680/movie_max_vp9.webm?t=1647431453\"}, \"mp4\": {\"480\": \"http://cdn.akamai.steamstatic.com/steam/apps/256837680/movie480.mp4?t=1647431453\", \"max\": \"http://cdn.akamai.steamstatic.com/steam/apps/256837680/movie_max.mp4?t=1647431453\"}, \"highlight\": true}], \"release_date\": {\"coming_soon\": true, \"date\": \"December 2023\"}, \"support_info\": {\"url\": \"https://www.stalker2.com/\", \"email\": \"info@stalker2.com\"}, \"background\": \"https://cdn.akamai.steamstatic.com/steam/apps/1643320/page_bg_generated_v6b.jpg?t=1676898117\", \"background_raw\": \"https://cdn.akamai.steamstatic.com/steam/apps/1643320/page.bg.jpg?t=1676898117\", \"content_descriptors\": {\"ids\": [2, 5], \"notes\": null}}}}'"
      ]
     },
     "execution_count": 11,
     "metadata": {},
     "output_type": "execute_result"
    }
   ],
   "source": [
    "steam.apps.get_app_details('1643320')"
   ]
  },
  {
   "cell_type": "code",
   "execution_count": 12,
   "id": "b05b2b9e",
   "metadata": {},
   "outputs": [
    {
     "data": {
      "text/plain": [
       "'{\"1643320\": {\"success\": true, \"data\": {\"type\": \"game\", \"name\": \"S.T.A.L.K.E.R. 2: Heart of Chornobyl\", \"steam_appid\": 1643320, \"required_age\": 0, \"is_free\": false, \"controller_support\": \"full\", \"detailed_description\": \"<h1>ULTIMATE EDITION</h1><p><img src=\\\\\"https://cdn.akamai.steamstatic.com/steam/apps/1643320/extras/S2_ultimate_steam.png?t=1676898117\\\\\" /><h2 class=\\\\\"bb_tag\\\\\">ULTIMATE EDITION INCLUDES:</h2><ul class=\\\\\"bb_ul\\\\\"><li>Season Pass With Access to All Future DLCs, Including 2 Story Expansions <br></li><li>Additional Story-Based Side Quest<br></li><li>Single Player: 1 Costume Skin &amp; 3 Weapon Skins<br></li><li>Multiplayer: 3 Costume Skins &amp; 7 Weapon Skins for Multiplayer<br></li><li>Digital Artbook<br></li><li>Digital Soundtrack</li></ul><h2 class=\\\\\"bb_tag\\\\\">PRE-ORDER ULTIMATE EDITION NOW TO GET EXCLUSIVE BONUSES:</h2><ul class=\\\\\"bb_ul\\\\\"><li>Extended Campfire Content: more guitar tunes and tales that you can hear in the game around the stalkers\\' campfires<br></li><li>\\'Early Bird\\' Weapon Skin<br></li><li>\\'Early Bird\\' Costume Skin<br></li><li>\\'Early Bird\\' Multiplayer Badge<br></li><li>Steam Pack: Animated Avatar, Animated Avatar Frame &amp; Animated Profile Background</li></ul></p><br><h1>DELUXE EDITION</h1><p><img src=\\\\\"https://cdn.akamai.steamstatic.com/steam/apps/1643320/extras/S2_deluxe_steam.png?t=1676898117\\\\\" /><h2 class=\\\\\"bb_tag\\\\\">DELUXE EDITION INCLUDES:</h2><ul class=\\\\\"bb_ul\\\\\"><li>Additional Story-Based Side Quest<br></li><li>Single Player: 1 Costume Skin &amp; 3 Weapon Skins<br></li><li>Multiplayer: 2 Costume Skins &amp; 3 Weapon Skins<br></li><li>Digital Artbook<br></li><li>Digital Soundtrack</li></ul><h2 class=\\\\\"bb_tag\\\\\">PRE-ORDER DELUXE EDITION NOW TO GET EXCLUSIVE BONUSES:</h2><ul class=\\\\\"bb_ul\\\\\"><li>Extended Campfire Content: more guitar tunes and tales that you can hear in the game around the stalkers\\' campfires<br></li><li>\\'Early Bird\\' Weapon Skin<br></li><li>\\'Early Bird\\' Costume Skin<br></li><li>\\'Early Bird\\' Multiplayer Badge<br></li><li>Steam Pack: Animated Avatar, Animated Avatar Frame &amp; Animated Profile Background</li></ul></p><br><h1>Pre-Purchase Offer</h1><p><img src=\\\\\"https://cdn.akamai.steamstatic.com/steam/apps/1643320/extras/S2_616x353.png?t=1676898117\\\\\" /><h2 class=\\\\\"bb_tag\\\\\">PRE-ORDER STANDARD EDITION NOW TO GET EXCLUSIVE BONUSES:</h2><ul class=\\\\\"bb_ul\\\\\"><li>Extended Campfire Content: more guitar tunes and tales that you can hear in the game around the stalkers\\' campfires<br></li><li>\\'Early bird\\' Weapon Skin<br></li><li>\\'Early bird\\' Costume Skin<br></li><li>\\'Early Bird\\' Multiplayer Badge<br></li><li>Steam Pack: Animated Avatar, Animated Avatar Frame &amp; Animated Profile Background</li></ul></p><br><h1>About the Game</h1>Chornobyl Exclusion Zone has changed dramatically after the second massive explosion in year 2006. Violent mutants, deadly anomalies, warring factions have made the Zone a very tough place to survive. Nevertheless, artifacts of unbelievable value attracted many people called S.T.A.L.K.E.R.s, who entered the Zone for their own risk striving to make a fortune out of it or even to find the Truth concealed in the Heart of Chornobyl.<h2 class=\\\\\"bb_tag\\\\\">EPIC NONLINEAR STORY IN SEAMLESS OPEN WORLD</h2>Take over a role of the lone stalker and explore photorealistic seamless open world in a 64-km\\\\u00b2 radioactive zone with a variety of environments that reveal post-apocalyptic atmosphere from different angles. Make your way through the Zone to define your destiny as you choose your paths within highly branching epic story.<br> <br><br><img src=\\\\\"https://cdn.akamai.steamstatic.com/steam/apps/1643320/extras/S.T.A.L.K.E.R.2_the_Zone.gif?t=1676898117\\\\\" /><h2 class=\\\\\"bb_tag\\\\\">VARIETY OF ENEMIES AND HUNDREDS OF WEAPON COMBINATIONS</h2>Meet members of different factions deciding who of them worth your friendship and who deserve a bullet. Engage intense gunfights with a variety of enemies that follow different tactics trying to outsmart you. Choose your preferable firearms from 30+ types of weapons with numerous modifications that allow creating hundreds of distinctive lethal combinations.<br> <br><br><img src=\\\\\"https://cdn.akamai.steamstatic.com/steam/apps/1643320/extras/S.T.A.L.K.E.R.2_gunfight.gif?t=1676898117\\\\\" /><h2 class=\\\\\"bb_tag\\\\\">LEGENDARY MUTANTS WITH DIFFERENT BEHAVIOUR MODELS</h2>Prepare to encounter horrifying mutated creatures that will try to slaughter you following different behaviour model. Each mutant may appear in different subtypes which makes their behaviour less predictible. Truly extreme danger represent regions with lairs with numerous mutants hunting in large groups.<br> <br><br><img src=\\\\\"https://cdn.akamai.steamstatic.com/steam/apps/1643320/extras/S.T.A.L.K.E.R.2_bloodsucker.gif?t=1676898117\\\\\" /><h2 class=\\\\\"bb_tag\\\\\">ARTIFACTS OF INCREDIBLE VALUE AND UNFORGIVING ANOMALIES</h2>The most valuable artifacts and secrets of the Zone are hidden in the most dangerous places. Beware of the hazardous anomalies and unique devastating arch-anomalies as you hunt for highly valuable artifacts scattered around the Zone. Will you dare to unveil the mysteries of the Zone that took lives of many others before you?<br> <br><br><img src=\\\\\"https://cdn.akamai.steamstatic.com/steam/apps/1643320/extras/S.T.A.L.K.E.R.2_artifact_hunting.gif?t=1676898117\\\\\" /><h2 class=\\\\\"bb_tag\\\\\">Discover legendary S.T.A.L.K.E.R. universe and experience:</h2><ul class=\\\\\"bb_ul\\\\\"><li>Unique gameplay built on a blend of FPS, horror and immersive sim<br></li><li>Non-linear story with the variety of paths that lead to one of the several endings<br></li><li>Benchmark-setting graphics developed using cutting-edge photogrammetric and scanning technologies<br></li><li>Advanced artificial intelligence systems that will keep engaged even the most hard-boiled players<br></li><li>Life-simulating system \\\\u201cA-life 2.0\\\\u201d that makes the game world feel alive as never before<br></li><li>Immersive survival mechanics like hunger, sleeping, bleeding, radiation effects that enrich the gameplay<br></li><li>Dynamic day-night cycle and weather will add even more realism to the gameplay experience<br></li><li>Mod support giving the freedom to the creative players to extend and enrich the game universe<br></li><li>Multiplayer mode, that will be added soon after release as a free update</li></ul><h2 class=\\\\\"bb_tag\\\\\">GOOD HUNTING, STALKER!</h2> <br><br><img src=\\\\\"https://cdn.akamai.steamstatic.com/steam/apps/1643320/extras/S.T.A.L.K.E.R.2_campfire.gif?t=1676898117\\\\\" />\", \"about_the_game\": \"Chornobyl Exclusion Zone has changed dramatically after the second massive explosion in year 2006. Violent mutants, deadly anomalies, warring factions have made the Zone a very tough place to survive. Nevertheless, artifacts of unbelievable value attracted many people called S.T.A.L.K.E.R.s, who entered the Zone for their own risk striving to make a fortune out of it or even to find the Truth concealed in the Heart of Chornobyl.<h2 class=\\\\\"bb_tag\\\\\">EPIC NONLINEAR STORY IN SEAMLESS OPEN WORLD</h2>Take over a role of the lone stalker and explore photorealistic seamless open world in a 64-km\\\\u00b2 radioactive zone with a variety of environments that reveal post-apocalyptic atmosphere from different angles. Make your way through the Zone to define your destiny as you choose your paths within highly branching epic story.<br> <br><br><img src=\\\\\"https://cdn.akamai.steamstatic.com/steam/apps/1643320/extras/S.T.A.L.K.E.R.2_the_Zone.gif?t=1676898117\\\\\" /><h2 class=\\\\\"bb_tag\\\\\">VARIETY OF ENEMIES AND HUNDREDS OF WEAPON COMBINATIONS</h2>Meet members of different factions deciding who of them worth your friendship and who deserve a bullet. Engage intense gunfights with a variety of enemies that follow different tactics trying to outsmart you. Choose your preferable firearms from 30+ types of weapons with numerous modifications that allow creating hundreds of distinctive lethal combinations.<br> <br><br><img src=\\\\\"https://cdn.akamai.steamstatic.com/steam/apps/1643320/extras/S.T.A.L.K.E.R.2_gunfight.gif?t=1676898117\\\\\" /><h2 class=\\\\\"bb_tag\\\\\">LEGENDARY MUTANTS WITH DIFFERENT BEHAVIOUR MODELS</h2>Prepare to encounter horrifying mutated creatures that will try to slaughter you following different behaviour model. Each mutant may appear in different subtypes which makes their behaviour less predictible. Truly extreme danger represent regions with lairs with numerous mutants hunting in large groups.<br> <br><br><img src=\\\\\"https://cdn.akamai.steamstatic.com/steam/apps/1643320/extras/S.T.A.L.K.E.R.2_bloodsucker.gif?t=1676898117\\\\\" /><h2 class=\\\\\"bb_tag\\\\\">ARTIFACTS OF INCREDIBLE VALUE AND UNFORGIVING ANOMALIES</h2>The most valuable artifacts and secrets of the Zone are hidden in the most dangerous places. Beware of the hazardous anomalies and unique devastating arch-anomalies as you hunt for highly valuable artifacts scattered around the Zone. Will you dare to unveil the mysteries of the Zone that took lives of many others before you?<br> <br><br><img src=\\\\\"https://cdn.akamai.steamstatic.com/steam/apps/1643320/extras/S.T.A.L.K.E.R.2_artifact_hunting.gif?t=1676898117\\\\\" /><h2 class=\\\\\"bb_tag\\\\\">Discover legendary S.T.A.L.K.E.R. universe and experience:</h2><ul class=\\\\\"bb_ul\\\\\"><li>Unique gameplay built on a blend of FPS, horror and immersive sim<br></li><li>Non-linear story with the variety of paths that lead to one of the several endings<br></li><li>Benchmark-setting graphics developed using cutting-edge photogrammetric and scanning technologies<br></li><li>Advanced artificial intelligence systems that will keep engaged even the most hard-boiled players<br></li><li>Life-simulating system \\\\u201cA-life 2.0\\\\u201d that makes the game world feel alive as never before<br></li><li>Immersive survival mechanics like hunger, sleeping, bleeding, radiation effects that enrich the gameplay<br></li><li>Dynamic day-night cycle and weather will add even more realism to the gameplay experience<br></li><li>Mod support giving the freedom to the creative players to extend and enrich the game universe<br></li><li>Multiplayer mode, that will be added soon after release as a free update</li></ul><h2 class=\\\\\"bb_tag\\\\\">GOOD HUNTING, STALKER!</h2> <br><br><img src=\\\\\"https://cdn.akamai.steamstatic.com/steam/apps/1643320/extras/S.T.A.L.K.E.R.2_campfire.gif?t=1676898117\\\\\" />\", \"short_description\": \"Discover the vast Chornobyl Exclusion Zone full of dangerous enemies, deadly anomalies and powerful artifacts. Unveil your own epic story as you make your way to the Heart of Chornobyl. Make your choices wisely, as they will determine your fate in the end.\", \"supported_languages\": \"English<strong>*</strong>, French, Italian, German, Spanish - Spain, Japanese, Korean, Polish, Portuguese - Brazil, Russian, Simplified Chinese, Traditional Chinese, Ukrainian<strong>*</strong>, Arabic, Czech, Spanish - Latin America, Turkish<br><strong>*</strong>languages with full audio support\", \"reviews\": \"\\\\u201cPretty impressive, looking unmistakably S.T.A.L.K.E.R.\\\\u201d<br><a href=\\\\\"https://kotaku.com/xbox-and-bethesda-at-e3-2021-the-biggest-announcements-1847089754\\\\\" target=\\\\\"_blank\\\\\" rel=\\\\\"\\\\\"  >KOTAKU</a><br><br>\\\\u201cThe grim post-apocalyptic shooter is set to offer another brutal tour of the Chernobyl dead zone\\\\u201d<br><a href=\\\\\"https://steamcommunity.com/linkfilter/?url=https://www.theguardian.com/games/2021/jun/24/e3-2021-20-best-games\\\\\" target=\\\\\"_blank\\\\\" rel=\\\\\" noopener\\\\\"  >THE GUARDIAN</a><br><br>\\\\u201cActually looks amazing\\\\u201d<br><a href=\\\\\"https://steamcommunity.com/linkfilter/?url=https://www.eurogamer.net/articles/2021-06-16-our-favourite-games-of-e3-2021\\\\\" target=\\\\\"_blank\\\\\" rel=\\\\\" noopener\\\\\"  >EUROGAMER</a><br>\", \"header_image\": \"https://cdn.akamai.steamstatic.com/steam/apps/1643320/header.jpg?t=1676898117\", \"website\": \"https://www.stalker2.com/\", \"pc_requirements\": {\"minimum\": \"<strong>Minimum:</strong><br><ul class=\\\\\"bb_ul\\\\\"><li><strong>OS:</strong> Windows 10<br></li><li><strong>Processor:</strong> AMD Ryzen 5 1600X / Intel Core i5-7600K<br></li><li><strong>Memory:</strong> 8 GB RAM<br></li><li><strong>Graphics:</strong> AMD Radeon RX 580 8GB / NVIDIA GeForce GTX 1060 6GB<br></li><li><strong>Storage:</strong> 150 GB available space<br></li><li><strong>Additional Notes:</strong> SSD</li></ul>\", \"recommended\": \"<strong>Recommended:</strong><br><ul class=\\\\\"bb_ul\\\\\"><li><strong>OS:</strong> Windows 10<br></li><li><strong>Processor:</strong> AMD Ryzen 7 3700X / Intel Core i7-9700K<br></li><li><strong>Memory:</strong> 16 GB RAM<br></li><li><strong>Graphics:</strong> AMD Radeon RX 5700 XT 8GB / NVIDIA GeForce RTX 2070 SUPER 8GB / NVIDIA GeForce GTX 1080 Ti 11GB<br></li><li><strong>Storage:</strong> 150 GB available space<br></li><li><strong>Additional Notes:</strong> SSD</li></ul>\"}, \"mac_requirements\": [], \"linux_requirements\": [], \"legal_notice\": \"S.T.A.L.K.E.R. 2 is registered trademark of GSC Game World. All rights reserved.\", \"developers\": [\"GSC Game World\"], \"publishers\": [\"GSC Game World\"], \"price_overview\": {\"currency\": \"EUR\", \"initial\": 5999, \"final\": 5999, \"discount_percent\": 0, \"initial_formatted\": \"\", \"final_formatted\": \"59,99\\\\u20ac\"}, \"packages\": [583675, 589054, 589055], \"package_groups\": [{\"name\": \"default\", \"title\": \"Buy S.T.A.L.K.E.R. 2: Heart of Chornobyl\", \"description\": \"\", \"selection_text\": \"Select a purchase option\", \"save_text\": \"\", \"display_type\": 0, \"is_recurring_subscription\": \"false\", \"subs\": [{\"packageid\": 583675, \"percent_savings_text\": \" \", \"percent_savings\": 0, \"option_text\": \"S.T.A.L.K.E.R. 2: Heart of Chornobyl - 59,99\\\\u20ac\", \"option_description\": \"\", \"can_get_free_license\": \"0\", \"is_free_license\": false, \"price_in_cents_with_discount\": 5999}, {\"packageid\": 589054, \"percent_savings_text\": \" \", \"percent_savings\": 0, \"option_text\": \"S.T.A.L.K.E.R. 2: Heart of Chornobyl - Deluxe Edition - 79,99\\\\u20ac\", \"option_description\": \"\", \"can_get_free_license\": \"0\", \"is_free_license\": false, \"price_in_cents_with_discount\": 7999}, {\"packageid\": 589055, \"percent_savings_text\": \" \", \"percent_savings\": 0, \"option_text\": \"S.T.A.L.K.E.R. 2: Heart of Chornobyl - Ultimate Edition - 109,99\\\\u20ac\", \"option_description\": \"\", \"can_get_free_license\": \"0\", \"is_free_license\": false, \"price_in_cents_with_discount\": 10999}]}], \"platforms\": {\"windows\": true, \"mac\": false, \"linux\": false}, \"categories\": [{\"id\": 2, \"description\": \"Single-player\"}, {\"id\": 1, \"description\": \"Multi-player\"}, {\"id\": 22, \"description\": \"Steam Achievements\"}, {\"id\": 28, \"description\": \"Full controller support\"}, {\"id\": 29, \"description\": \"Steam Trading Cards\"}, {\"id\": 23, \"description\": \"Steam Cloud\"}], \"genres\": [{\"id\": \"1\", \"description\": \"Action\"}, {\"id\": \"25\", \"description\": \"Adventure\"}, {\"id\": \"3\", \"description\": \"RPG\"}], \"screenshots\": [{\"id\": 0, \"path_thumbnail\": \"https://cdn.akamai.steamstatic.com/steam/apps/1643320/ss_2d9b6c473b71f90e7076f50f64ec396a644da452.600x338.jpg?t=1676898117\", \"path_full\": \"https://cdn.akamai.steamstatic.com/steam/apps/1643320/ss_2d9b6c473b71f90e7076f50f64ec396a644da452.1920x1080.jpg?t=1676898117\"}, {\"id\": 1, \"path_thumbnail\": \"https://cdn.akamai.steamstatic.com/steam/apps/1643320/ss_15c0d1940c6c3872e0d4e455f4d2da32c2028a18.600x338.jpg?t=1676898117\", \"path_full\": \"https://cdn.akamai.steamstatic.com/steam/apps/1643320/ss_15c0d1940c6c3872e0d4e455f4d2da32c2028a18.1920x1080.jpg?t=1676898117\"}, {\"id\": 2, \"path_thumbnail\": \"https://cdn.akamai.steamstatic.com/steam/apps/1643320/ss_3b56a4aea69f1d49d4871eeb1913f460f067a138.600x338.jpg?t=1676898117\", \"path_full\": \"https://cdn.akamai.steamstatic.com/steam/apps/1643320/ss_3b56a4aea69f1d49d4871eeb1913f460f067a138.1920x1080.jpg?t=1676898117\"}, {\"id\": 3, \"path_thumbnail\": \"https://cdn.akamai.steamstatic.com/steam/apps/1643320/ss_b9375dc730cb8a050e9da36e4fe779b34e5f44c5.600x338.jpg?t=1676898117\", \"path_full\": \"https://cdn.akamai.steamstatic.com/steam/apps/1643320/ss_b9375dc730cb8a050e9da36e4fe779b34e5f44c5.1920x1080.jpg?t=1676898117\"}, {\"id\": 4, \"path_thumbnail\": \"https://cdn.akamai.steamstatic.com/steam/apps/1643320/ss_98c6c34249e944e42fcb46481cac1f5d43457729.600x338.jpg?t=1676898117\", \"path_full\": \"https://cdn.akamai.steamstatic.com/steam/apps/1643320/ss_98c6c34249e944e42fcb46481cac1f5d43457729.1920x1080.jpg?t=1676898117\"}, {\"id\": 5, \"path_thumbnail\": \"https://cdn.akamai.steamstatic.com/steam/apps/1643320/ss_6a0d30d5fad86c12df46e59042efb55c9a4a3b53.600x338.jpg?t=1676898117\", \"path_full\": \"https://cdn.akamai.steamstatic.com/steam/apps/1643320/ss_6a0d30d5fad86c12df46e59042efb55c9a4a3b53.1920x1080.jpg?t=1676898117\"}, {\"id\": 6, \"path_thumbnail\": \"https://cdn.akamai.steamstatic.com/steam/apps/1643320/ss_1db36cee060cb6b9b468e3f64a3eb354d5a76472.600x338.jpg?t=1676898117\", \"path_full\": \"https://cdn.akamai.steamstatic.com/steam/apps/1643320/ss_1db36cee060cb6b9b468e3f64a3eb354d5a76472.1920x1080.jpg?t=1676898117\"}, {\"id\": 7, \"path_thumbnail\": \"https://cdn.akamai.steamstatic.com/steam/apps/1643320/ss_5daeb8b5e3692e9058b2f56de36aa5e0cf45da24.600x338.jpg?t=1676898117\", \"path_full\": \"https://cdn.akamai.steamstatic.com/steam/apps/1643320/ss_5daeb8b5e3692e9058b2f56de36aa5e0cf45da24.1920x1080.jpg?t=1676898117\"}, {\"id\": 8, \"path_thumbnail\": \"https://cdn.akamai.steamstatic.com/steam/apps/1643320/ss_742f5aabd44041fe7e412aa4ddf57dfb149877bf.600x338.jpg?t=1676898117\", \"path_full\": \"https://cdn.akamai.steamstatic.com/steam/apps/1643320/ss_742f5aabd44041fe7e412aa4ddf57dfb149877bf.1920x1080.jpg?t=1676898117\"}, {\"id\": 9, \"path_thumbnail\": \"https://cdn.akamai.steamstatic.com/steam/apps/1643320/ss_cd1d13f3d0a3e21cef796030c434f47e58a4fa1c.600x338.jpg?t=1676898117\", \"path_full\": \"https://cdn.akamai.steamstatic.com/steam/apps/1643320/ss_cd1d13f3d0a3e21cef796030c434f47e58a4fa1c.1920x1080.jpg?t=1676898117\"}, {\"id\": 10, \"path_thumbnail\": \"https://cdn.akamai.steamstatic.com/steam/apps/1643320/ss_3243f0dd0fa66791ec19a103f2d53f863420fd66.600x338.jpg?t=1676898117\", \"path_full\": \"https://cdn.akamai.steamstatic.com/steam/apps/1643320/ss_3243f0dd0fa66791ec19a103f2d53f863420fd66.1920x1080.jpg?t=1676898117\"}, {\"id\": 11, \"path_thumbnail\": \"https://cdn.akamai.steamstatic.com/steam/apps/1643320/ss_f88983d15a47aca6905b1d8b4ca093c81096c8d6.600x338.jpg?t=1676898117\", \"path_full\": \"https://cdn.akamai.steamstatic.com/steam/apps/1643320/ss_f88983d15a47aca6905b1d8b4ca093c81096c8d6.1920x1080.jpg?t=1676898117\"}, {\"id\": 12, \"path_thumbnail\": \"https://cdn.akamai.steamstatic.com/steam/apps/1643320/ss_1d8fd0eb5c837f702f57abcdc9e66f8b6008c83a.600x338.jpg?t=1676898117\", \"path_full\": \"https://cdn.akamai.steamstatic.com/steam/apps/1643320/ss_1d8fd0eb5c837f702f57abcdc9e66f8b6008c83a.1920x1080.jpg?t=1676898117\"}, {\"id\": 13, \"path_thumbnail\": \"https://cdn.akamai.steamstatic.com/steam/apps/1643320/ss_4cd83e653302f30b22bfeff5b0c897d803d77662.600x338.jpg?t=1676898117\", \"path_full\": \"https://cdn.akamai.steamstatic.com/steam/apps/1643320/ss_4cd83e653302f30b22bfeff5b0c897d803d77662.1920x1080.jpg?t=1676898117\"}, {\"id\": 14, \"path_thumbnail\": \"https://cdn.akamai.steamstatic.com/steam/apps/1643320/ss_9325ae1c546ba78595c54e75002e4b35b2d84ab3.600x338.jpg?t=1676898117\", \"path_full\": \"https://cdn.akamai.steamstatic.com/steam/apps/1643320/ss_9325ae1c546ba78595c54e75002e4b35b2d84ab3.1920x1080.jpg?t=1676898117\"}], \"movies\": [{\"id\": 256923250, \"name\": \"S.T.A.L.K.E.R. 2: Heart of Chornobyl - Come To Me Official Trailer\", \"thumbnail\": \"https://cdn.akamai.steamstatic.com/steam/apps/256923250/movie.293x165.jpg?t=1672344496\", \"webm\": {\"480\": \"http://cdn.akamai.steamstatic.com/steam/apps/256923250/movie480_vp9.webm?t=1672344496\", \"max\": \"http://cdn.akamai.steamstatic.com/steam/apps/256923250/movie_max_vp9.webm?t=1672344496\"}, \"mp4\": {\"480\": \"http://cdn.akamai.steamstatic.com/steam/apps/256923250/movie480.mp4?t=1672344496\", \"max\": \"http://cdn.akamai.steamstatic.com/steam/apps/256923250/movie_max.mp4?t=1672344496\"}, \"highlight\": true}, {\"id\": 256837730, \"name\": \"S.T.A.L.K.E.R. 2: Heart of Chornobyl \\\\u2013 Official Gameplay Trailer\", \"thumbnail\": \"https://cdn.akamai.steamstatic.com/steam/apps/256837730/movie.293x165.jpg?t=1647431449\", \"webm\": {\"480\": \"http://cdn.akamai.steamstatic.com/steam/apps/256837730/movie480_vp9.webm?t=1647431449\", \"max\": \"http://cdn.akamai.steamstatic.com/steam/apps/256837730/movie_max_vp9.webm?t=1647431449\"}, \"mp4\": {\"480\": \"http://cdn.akamai.steamstatic.com/steam/apps/256837730/movie480.mp4?t=1647431449\", \"max\": \"http://cdn.akamai.steamstatic.com/steam/apps/256837730/movie_max.mp4?t=1647431449\"}, \"highlight\": true}, {\"id\": 256891964, \"name\": \"S.T.A.L.K.E.R. 2: Heart Of Chornobyl \\\\u2013 Enter the Zone Official Trailer\", \"thumbnail\": \"https://cdn.akamai.steamstatic.com/steam/apps/256891964/movie.293x165.jpg?t=1672344224\", \"webm\": {\"480\": \"http://cdn.akamai.steamstatic.com/steam/apps/256891964/movie480_vp9.webm?t=1672344224\", \"max\": \"http://cdn.akamai.steamstatic.com/steam/apps/256891964/movie_max_vp9.webm?t=1672344224\"}, \"mp4\": {\"480\": \"http://cdn.akamai.steamstatic.com/steam/apps/256891964/movie480.mp4?t=1672344224\", \"max\": \"http://cdn.akamai.steamstatic.com/steam/apps/256891964/movie_max.mp4?t=1672344224\"}, \"highlight\": true}, {\"id\": 256837680, \"name\": \"S.T.A.L.K.E.R. 2: Heart of Chornobyl \\\\u2013 Official Gameplay Teaser\", \"thumbnail\": \"https://cdn.akamai.steamstatic.com/steam/apps/256837680/movie.293x165.jpg?t=1647431453\", \"webm\": {\"480\": \"http://cdn.akamai.steamstatic.com/steam/apps/256837680/movie480_vp9.webm?t=1647431453\", \"max\": \"http://cdn.akamai.steamstatic.com/steam/apps/256837680/movie_max_vp9.webm?t=1647431453\"}, \"mp4\": {\"480\": \"http://cdn.akamai.steamstatic.com/steam/apps/256837680/movie480.mp4?t=1647431453\", \"max\": \"http://cdn.akamai.steamstatic.com/steam/apps/256837680/movie_max.mp4?t=1647431453\"}, \"highlight\": true}], \"release_date\": {\"coming_soon\": true, \"date\": \"December 2023\"}, \"support_info\": {\"url\": \"https://www.stalker2.com/\", \"email\": \"info@stalker2.com\"}, \"background\": \"https://cdn.akamai.steamstatic.com/steam/apps/1643320/page_bg_generated_v6b.jpg?t=1676898117\", \"background_raw\": \"https://cdn.akamai.steamstatic.com/steam/apps/1643320/page.bg.jpg?t=1676898117\", \"content_descriptors\": {\"ids\": [2, 5], \"notes\": null}}}}'"
      ]
     },
     "execution_count": 12,
     "metadata": {},
     "output_type": "execute_result"
    }
   ],
   "source": [
    "steam.apps.get_app_details(ids[0])"
   ]
  },
  {
   "cell_type": "code",
   "execution_count": 13,
   "id": "1377a94f",
   "metadata": {},
   "outputs": [
    {
     "data": {
      "text/plain": [
       "{'success': True,\n",
       " 'data': {'type': 'game',\n",
       "  'name': 'S.T.A.L.K.E.R. 2: Heart of Chornobyl',\n",
       "  'steam_appid': 1643320,\n",
       "  'required_age': 0,\n",
       "  'is_free': False,\n",
       "  'controller_support': 'full',\n",
       "  'detailed_description': '<h1>ULTIMATE EDITION</h1><p><img src=\"https://cdn.akamai.steamstatic.com/steam/apps/1643320/extras/S2_ultimate_steam.png?t=1676898117\" /><h2 class=\"bb_tag\">ULTIMATE EDITION INCLUDES:</h2><ul class=\"bb_ul\"><li>Season Pass With Access to All Future DLCs, Including 2 Story Expansions <br></li><li>Additional Story-Based Side Quest<br></li><li>Single Player: 1 Costume Skin &amp; 3 Weapon Skins<br></li><li>Multiplayer: 3 Costume Skins &amp; 7 Weapon Skins for Multiplayer<br></li><li>Digital Artbook<br></li><li>Digital Soundtrack</li></ul><h2 class=\"bb_tag\">PRE-ORDER ULTIMATE EDITION NOW TO GET EXCLUSIVE BONUSES:</h2><ul class=\"bb_ul\"><li>Extended Campfire Content: more guitar tunes and tales that you can hear in the game around the stalkers\\' campfires<br></li><li>\\'Early Bird\\' Weapon Skin<br></li><li>\\'Early Bird\\' Costume Skin<br></li><li>\\'Early Bird\\' Multiplayer Badge<br></li><li>Steam Pack: Animated Avatar, Animated Avatar Frame &amp; Animated Profile Background</li></ul></p><br><h1>DELUXE EDITION</h1><p><img src=\"https://cdn.akamai.steamstatic.com/steam/apps/1643320/extras/S2_deluxe_steam.png?t=1676898117\" /><h2 class=\"bb_tag\">DELUXE EDITION INCLUDES:</h2><ul class=\"bb_ul\"><li>Additional Story-Based Side Quest<br></li><li>Single Player: 1 Costume Skin &amp; 3 Weapon Skins<br></li><li>Multiplayer: 2 Costume Skins &amp; 3 Weapon Skins<br></li><li>Digital Artbook<br></li><li>Digital Soundtrack</li></ul><h2 class=\"bb_tag\">PRE-ORDER DELUXE EDITION NOW TO GET EXCLUSIVE BONUSES:</h2><ul class=\"bb_ul\"><li>Extended Campfire Content: more guitar tunes and tales that you can hear in the game around the stalkers\\' campfires<br></li><li>\\'Early Bird\\' Weapon Skin<br></li><li>\\'Early Bird\\' Costume Skin<br></li><li>\\'Early Bird\\' Multiplayer Badge<br></li><li>Steam Pack: Animated Avatar, Animated Avatar Frame &amp; Animated Profile Background</li></ul></p><br><h1>Pre-Purchase Offer</h1><p><img src=\"https://cdn.akamai.steamstatic.com/steam/apps/1643320/extras/S2_616x353.png?t=1676898117\" /><h2 class=\"bb_tag\">PRE-ORDER STANDARD EDITION NOW TO GET EXCLUSIVE BONUSES:</h2><ul class=\"bb_ul\"><li>Extended Campfire Content: more guitar tunes and tales that you can hear in the game around the stalkers\\' campfires<br></li><li>\\'Early bird\\' Weapon Skin<br></li><li>\\'Early bird\\' Costume Skin<br></li><li>\\'Early Bird\\' Multiplayer Badge<br></li><li>Steam Pack: Animated Avatar, Animated Avatar Frame &amp; Animated Profile Background</li></ul></p><br><h1>About the Game</h1>Chornobyl Exclusion Zone has changed dramatically after the second massive explosion in year 2006. Violent mutants, deadly anomalies, warring factions have made the Zone a very tough place to survive. Nevertheless, artifacts of unbelievable value attracted many people called S.T.A.L.K.E.R.s, who entered the Zone for their own risk striving to make a fortune out of it or even to find the Truth concealed in the Heart of Chornobyl.<h2 class=\"bb_tag\">EPIC NONLINEAR STORY IN SEAMLESS OPEN WORLD</h2>Take over a role of the lone stalker and explore photorealistic seamless open world in a 64-km² radioactive zone with a variety of environments that reveal post-apocalyptic atmosphere from different angles. Make your way through the Zone to define your destiny as you choose your paths within highly branching epic story.<br> <br><br><img src=\"https://cdn.akamai.steamstatic.com/steam/apps/1643320/extras/S.T.A.L.K.E.R.2_the_Zone.gif?t=1676898117\" /><h2 class=\"bb_tag\">VARIETY OF ENEMIES AND HUNDREDS OF WEAPON COMBINATIONS</h2>Meet members of different factions deciding who of them worth your friendship and who deserve a bullet. Engage intense gunfights with a variety of enemies that follow different tactics trying to outsmart you. Choose your preferable firearms from 30+ types of weapons with numerous modifications that allow creating hundreds of distinctive lethal combinations.<br> <br><br><img src=\"https://cdn.akamai.steamstatic.com/steam/apps/1643320/extras/S.T.A.L.K.E.R.2_gunfight.gif?t=1676898117\" /><h2 class=\"bb_tag\">LEGENDARY MUTANTS WITH DIFFERENT BEHAVIOUR MODELS</h2>Prepare to encounter horrifying mutated creatures that will try to slaughter you following different behaviour model. Each mutant may appear in different subtypes which makes their behaviour less predictible. Truly extreme danger represent regions with lairs with numerous mutants hunting in large groups.<br> <br><br><img src=\"https://cdn.akamai.steamstatic.com/steam/apps/1643320/extras/S.T.A.L.K.E.R.2_bloodsucker.gif?t=1676898117\" /><h2 class=\"bb_tag\">ARTIFACTS OF INCREDIBLE VALUE AND UNFORGIVING ANOMALIES</h2>The most valuable artifacts and secrets of the Zone are hidden in the most dangerous places. Beware of the hazardous anomalies and unique devastating arch-anomalies as you hunt for highly valuable artifacts scattered around the Zone. Will you dare to unveil the mysteries of the Zone that took lives of many others before you?<br> <br><br><img src=\"https://cdn.akamai.steamstatic.com/steam/apps/1643320/extras/S.T.A.L.K.E.R.2_artifact_hunting.gif?t=1676898117\" /><h2 class=\"bb_tag\">Discover legendary S.T.A.L.K.E.R. universe and experience:</h2><ul class=\"bb_ul\"><li>Unique gameplay built on a blend of FPS, horror and immersive sim<br></li><li>Non-linear story with the variety of paths that lead to one of the several endings<br></li><li>Benchmark-setting graphics developed using cutting-edge photogrammetric and scanning technologies<br></li><li>Advanced artificial intelligence systems that will keep engaged even the most hard-boiled players<br></li><li>Life-simulating system “A-life 2.0” that makes the game world feel alive as never before<br></li><li>Immersive survival mechanics like hunger, sleeping, bleeding, radiation effects that enrich the gameplay<br></li><li>Dynamic day-night cycle and weather will add even more realism to the gameplay experience<br></li><li>Mod support giving the freedom to the creative players to extend and enrich the game universe<br></li><li>Multiplayer mode, that will be added soon after release as a free update</li></ul><h2 class=\"bb_tag\">GOOD HUNTING, STALKER!</h2> <br><br><img src=\"https://cdn.akamai.steamstatic.com/steam/apps/1643320/extras/S.T.A.L.K.E.R.2_campfire.gif?t=1676898117\" />',\n",
       "  'about_the_game': 'Chornobyl Exclusion Zone has changed dramatically after the second massive explosion in year 2006. Violent mutants, deadly anomalies, warring factions have made the Zone a very tough place to survive. Nevertheless, artifacts of unbelievable value attracted many people called S.T.A.L.K.E.R.s, who entered the Zone for their own risk striving to make a fortune out of it or even to find the Truth concealed in the Heart of Chornobyl.<h2 class=\"bb_tag\">EPIC NONLINEAR STORY IN SEAMLESS OPEN WORLD</h2>Take over a role of the lone stalker and explore photorealistic seamless open world in a 64-km² radioactive zone with a variety of environments that reveal post-apocalyptic atmosphere from different angles. Make your way through the Zone to define your destiny as you choose your paths within highly branching epic story.<br> <br><br><img src=\"https://cdn.akamai.steamstatic.com/steam/apps/1643320/extras/S.T.A.L.K.E.R.2_the_Zone.gif?t=1676898117\" /><h2 class=\"bb_tag\">VARIETY OF ENEMIES AND HUNDREDS OF WEAPON COMBINATIONS</h2>Meet members of different factions deciding who of them worth your friendship and who deserve a bullet. Engage intense gunfights with a variety of enemies that follow different tactics trying to outsmart you. Choose your preferable firearms from 30+ types of weapons with numerous modifications that allow creating hundreds of distinctive lethal combinations.<br> <br><br><img src=\"https://cdn.akamai.steamstatic.com/steam/apps/1643320/extras/S.T.A.L.K.E.R.2_gunfight.gif?t=1676898117\" /><h2 class=\"bb_tag\">LEGENDARY MUTANTS WITH DIFFERENT BEHAVIOUR MODELS</h2>Prepare to encounter horrifying mutated creatures that will try to slaughter you following different behaviour model. Each mutant may appear in different subtypes which makes their behaviour less predictible. Truly extreme danger represent regions with lairs with numerous mutants hunting in large groups.<br> <br><br><img src=\"https://cdn.akamai.steamstatic.com/steam/apps/1643320/extras/S.T.A.L.K.E.R.2_bloodsucker.gif?t=1676898117\" /><h2 class=\"bb_tag\">ARTIFACTS OF INCREDIBLE VALUE AND UNFORGIVING ANOMALIES</h2>The most valuable artifacts and secrets of the Zone are hidden in the most dangerous places. Beware of the hazardous anomalies and unique devastating arch-anomalies as you hunt for highly valuable artifacts scattered around the Zone. Will you dare to unveil the mysteries of the Zone that took lives of many others before you?<br> <br><br><img src=\"https://cdn.akamai.steamstatic.com/steam/apps/1643320/extras/S.T.A.L.K.E.R.2_artifact_hunting.gif?t=1676898117\" /><h2 class=\"bb_tag\">Discover legendary S.T.A.L.K.E.R. universe and experience:</h2><ul class=\"bb_ul\"><li>Unique gameplay built on a blend of FPS, horror and immersive sim<br></li><li>Non-linear story with the variety of paths that lead to one of the several endings<br></li><li>Benchmark-setting graphics developed using cutting-edge photogrammetric and scanning technologies<br></li><li>Advanced artificial intelligence systems that will keep engaged even the most hard-boiled players<br></li><li>Life-simulating system “A-life 2.0” that makes the game world feel alive as never before<br></li><li>Immersive survival mechanics like hunger, sleeping, bleeding, radiation effects that enrich the gameplay<br></li><li>Dynamic day-night cycle and weather will add even more realism to the gameplay experience<br></li><li>Mod support giving the freedom to the creative players to extend and enrich the game universe<br></li><li>Multiplayer mode, that will be added soon after release as a free update</li></ul><h2 class=\"bb_tag\">GOOD HUNTING, STALKER!</h2> <br><br><img src=\"https://cdn.akamai.steamstatic.com/steam/apps/1643320/extras/S.T.A.L.K.E.R.2_campfire.gif?t=1676898117\" />',\n",
       "  'short_description': 'Discover the vast Chornobyl Exclusion Zone full of dangerous enemies, deadly anomalies and powerful artifacts. Unveil your own epic story as you make your way to the Heart of Chornobyl. Make your choices wisely, as they will determine your fate in the end.',\n",
       "  'supported_languages': 'English<strong>*</strong>, French, Italian, German, Spanish - Spain, Japanese, Korean, Polish, Portuguese - Brazil, Russian, Simplified Chinese, Traditional Chinese, Ukrainian<strong>*</strong>, Arabic, Czech, Spanish - Latin America, Turkish<br><strong>*</strong>languages with full audio support',\n",
       "  'reviews': '“Pretty impressive, looking unmistakably S.T.A.L.K.E.R.”<br><a href=\"https://kotaku.com/xbox-and-bethesda-at-e3-2021-the-biggest-announcements-1847089754\" target=\"_blank\" rel=\"\"  >KOTAKU</a><br><br>“The grim post-apocalyptic shooter is set to offer another brutal tour of the Chernobyl dead zone”<br><a href=\"https://steamcommunity.com/linkfilter/?url=https://www.theguardian.com/games/2021/jun/24/e3-2021-20-best-games\" target=\"_blank\" rel=\" noopener\"  >THE GUARDIAN</a><br><br>“Actually looks amazing”<br><a href=\"https://steamcommunity.com/linkfilter/?url=https://www.eurogamer.net/articles/2021-06-16-our-favourite-games-of-e3-2021\" target=\"_blank\" rel=\" noopener\"  >EUROGAMER</a><br>',\n",
       "  'header_image': 'https://cdn.akamai.steamstatic.com/steam/apps/1643320/header.jpg?t=1676898117',\n",
       "  'website': 'https://www.stalker2.com/',\n",
       "  'pc_requirements': {'minimum': '<strong>Minimum:</strong><br><ul class=\"bb_ul\"><li><strong>OS:</strong> Windows 10<br></li><li><strong>Processor:</strong> AMD Ryzen 5 1600X / Intel Core i5-7600K<br></li><li><strong>Memory:</strong> 8 GB RAM<br></li><li><strong>Graphics:</strong> AMD Radeon RX 580 8GB / NVIDIA GeForce GTX 1060 6GB<br></li><li><strong>Storage:</strong> 150 GB available space<br></li><li><strong>Additional Notes:</strong> SSD</li></ul>',\n",
       "   'recommended': '<strong>Recommended:</strong><br><ul class=\"bb_ul\"><li><strong>OS:</strong> Windows 10<br></li><li><strong>Processor:</strong> AMD Ryzen 7 3700X / Intel Core i7-9700K<br></li><li><strong>Memory:</strong> 16 GB RAM<br></li><li><strong>Graphics:</strong> AMD Radeon RX 5700 XT 8GB / NVIDIA GeForce RTX 2070 SUPER 8GB / NVIDIA GeForce GTX 1080 Ti 11GB<br></li><li><strong>Storage:</strong> 150 GB available space<br></li><li><strong>Additional Notes:</strong> SSD</li></ul>'},\n",
       "  'mac_requirements': [],\n",
       "  'linux_requirements': [],\n",
       "  'legal_notice': 'S.T.A.L.K.E.R. 2 is registered trademark of GSC Game World. All rights reserved.',\n",
       "  'developers': ['GSC Game World'],\n",
       "  'publishers': ['GSC Game World'],\n",
       "  'price_overview': {'currency': 'EUR',\n",
       "   'initial': 5999,\n",
       "   'final': 5999,\n",
       "   'discount_percent': 0,\n",
       "   'initial_formatted': '',\n",
       "   'final_formatted': '59,99€'},\n",
       "  'packages': [583675, 589054, 589055],\n",
       "  'package_groups': [{'name': 'default',\n",
       "    'title': 'Buy S.T.A.L.K.E.R. 2: Heart of Chornobyl',\n",
       "    'description': '',\n",
       "    'selection_text': 'Select a purchase option',\n",
       "    'save_text': '',\n",
       "    'display_type': 0,\n",
       "    'is_recurring_subscription': 'false',\n",
       "    'subs': [{'packageid': 583675,\n",
       "      'percent_savings_text': ' ',\n",
       "      'percent_savings': 0,\n",
       "      'option_text': 'S.T.A.L.K.E.R. 2: Heart of Chornobyl - 59,99€',\n",
       "      'option_description': '',\n",
       "      'can_get_free_license': '0',\n",
       "      'is_free_license': False,\n",
       "      'price_in_cents_with_discount': 5999},\n",
       "     {'packageid': 589054,\n",
       "      'percent_savings_text': ' ',\n",
       "      'percent_savings': 0,\n",
       "      'option_text': 'S.T.A.L.K.E.R. 2: Heart of Chornobyl - Deluxe Edition - 79,99€',\n",
       "      'option_description': '',\n",
       "      'can_get_free_license': '0',\n",
       "      'is_free_license': False,\n",
       "      'price_in_cents_with_discount': 7999},\n",
       "     {'packageid': 589055,\n",
       "      'percent_savings_text': ' ',\n",
       "      'percent_savings': 0,\n",
       "      'option_text': 'S.T.A.L.K.E.R. 2: Heart of Chornobyl - Ultimate Edition - 109,99€',\n",
       "      'option_description': '',\n",
       "      'can_get_free_license': '0',\n",
       "      'is_free_license': False,\n",
       "      'price_in_cents_with_discount': 10999}]}],\n",
       "  'platforms': {'windows': True, 'mac': False, 'linux': False},\n",
       "  'categories': [{'id': 2, 'description': 'Single-player'},\n",
       "   {'id': 1, 'description': 'Multi-player'},\n",
       "   {'id': 22, 'description': 'Steam Achievements'},\n",
       "   {'id': 28, 'description': 'Full controller support'},\n",
       "   {'id': 29, 'description': 'Steam Trading Cards'},\n",
       "   {'id': 23, 'description': 'Steam Cloud'}],\n",
       "  'genres': [{'id': '1', 'description': 'Action'},\n",
       "   {'id': '25', 'description': 'Adventure'},\n",
       "   {'id': '3', 'description': 'RPG'}],\n",
       "  'screenshots': [{'id': 0,\n",
       "    'path_thumbnail': 'https://cdn.akamai.steamstatic.com/steam/apps/1643320/ss_2d9b6c473b71f90e7076f50f64ec396a644da452.600x338.jpg?t=1676898117',\n",
       "    'path_full': 'https://cdn.akamai.steamstatic.com/steam/apps/1643320/ss_2d9b6c473b71f90e7076f50f64ec396a644da452.1920x1080.jpg?t=1676898117'},\n",
       "   {'id': 1,\n",
       "    'path_thumbnail': 'https://cdn.akamai.steamstatic.com/steam/apps/1643320/ss_15c0d1940c6c3872e0d4e455f4d2da32c2028a18.600x338.jpg?t=1676898117',\n",
       "    'path_full': 'https://cdn.akamai.steamstatic.com/steam/apps/1643320/ss_15c0d1940c6c3872e0d4e455f4d2da32c2028a18.1920x1080.jpg?t=1676898117'},\n",
       "   {'id': 2,\n",
       "    'path_thumbnail': 'https://cdn.akamai.steamstatic.com/steam/apps/1643320/ss_3b56a4aea69f1d49d4871eeb1913f460f067a138.600x338.jpg?t=1676898117',\n",
       "    'path_full': 'https://cdn.akamai.steamstatic.com/steam/apps/1643320/ss_3b56a4aea69f1d49d4871eeb1913f460f067a138.1920x1080.jpg?t=1676898117'},\n",
       "   {'id': 3,\n",
       "    'path_thumbnail': 'https://cdn.akamai.steamstatic.com/steam/apps/1643320/ss_b9375dc730cb8a050e9da36e4fe779b34e5f44c5.600x338.jpg?t=1676898117',\n",
       "    'path_full': 'https://cdn.akamai.steamstatic.com/steam/apps/1643320/ss_b9375dc730cb8a050e9da36e4fe779b34e5f44c5.1920x1080.jpg?t=1676898117'},\n",
       "   {'id': 4,\n",
       "    'path_thumbnail': 'https://cdn.akamai.steamstatic.com/steam/apps/1643320/ss_98c6c34249e944e42fcb46481cac1f5d43457729.600x338.jpg?t=1676898117',\n",
       "    'path_full': 'https://cdn.akamai.steamstatic.com/steam/apps/1643320/ss_98c6c34249e944e42fcb46481cac1f5d43457729.1920x1080.jpg?t=1676898117'},\n",
       "   {'id': 5,\n",
       "    'path_thumbnail': 'https://cdn.akamai.steamstatic.com/steam/apps/1643320/ss_6a0d30d5fad86c12df46e59042efb55c9a4a3b53.600x338.jpg?t=1676898117',\n",
       "    'path_full': 'https://cdn.akamai.steamstatic.com/steam/apps/1643320/ss_6a0d30d5fad86c12df46e59042efb55c9a4a3b53.1920x1080.jpg?t=1676898117'},\n",
       "   {'id': 6,\n",
       "    'path_thumbnail': 'https://cdn.akamai.steamstatic.com/steam/apps/1643320/ss_1db36cee060cb6b9b468e3f64a3eb354d5a76472.600x338.jpg?t=1676898117',\n",
       "    'path_full': 'https://cdn.akamai.steamstatic.com/steam/apps/1643320/ss_1db36cee060cb6b9b468e3f64a3eb354d5a76472.1920x1080.jpg?t=1676898117'},\n",
       "   {'id': 7,\n",
       "    'path_thumbnail': 'https://cdn.akamai.steamstatic.com/steam/apps/1643320/ss_5daeb8b5e3692e9058b2f56de36aa5e0cf45da24.600x338.jpg?t=1676898117',\n",
       "    'path_full': 'https://cdn.akamai.steamstatic.com/steam/apps/1643320/ss_5daeb8b5e3692e9058b2f56de36aa5e0cf45da24.1920x1080.jpg?t=1676898117'},\n",
       "   {'id': 8,\n",
       "    'path_thumbnail': 'https://cdn.akamai.steamstatic.com/steam/apps/1643320/ss_742f5aabd44041fe7e412aa4ddf57dfb149877bf.600x338.jpg?t=1676898117',\n",
       "    'path_full': 'https://cdn.akamai.steamstatic.com/steam/apps/1643320/ss_742f5aabd44041fe7e412aa4ddf57dfb149877bf.1920x1080.jpg?t=1676898117'},\n",
       "   {'id': 9,\n",
       "    'path_thumbnail': 'https://cdn.akamai.steamstatic.com/steam/apps/1643320/ss_cd1d13f3d0a3e21cef796030c434f47e58a4fa1c.600x338.jpg?t=1676898117',\n",
       "    'path_full': 'https://cdn.akamai.steamstatic.com/steam/apps/1643320/ss_cd1d13f3d0a3e21cef796030c434f47e58a4fa1c.1920x1080.jpg?t=1676898117'},\n",
       "   {'id': 10,\n",
       "    'path_thumbnail': 'https://cdn.akamai.steamstatic.com/steam/apps/1643320/ss_3243f0dd0fa66791ec19a103f2d53f863420fd66.600x338.jpg?t=1676898117',\n",
       "    'path_full': 'https://cdn.akamai.steamstatic.com/steam/apps/1643320/ss_3243f0dd0fa66791ec19a103f2d53f863420fd66.1920x1080.jpg?t=1676898117'},\n",
       "   {'id': 11,\n",
       "    'path_thumbnail': 'https://cdn.akamai.steamstatic.com/steam/apps/1643320/ss_f88983d15a47aca6905b1d8b4ca093c81096c8d6.600x338.jpg?t=1676898117',\n",
       "    'path_full': 'https://cdn.akamai.steamstatic.com/steam/apps/1643320/ss_f88983d15a47aca6905b1d8b4ca093c81096c8d6.1920x1080.jpg?t=1676898117'},\n",
       "   {'id': 12,\n",
       "    'path_thumbnail': 'https://cdn.akamai.steamstatic.com/steam/apps/1643320/ss_1d8fd0eb5c837f702f57abcdc9e66f8b6008c83a.600x338.jpg?t=1676898117',\n",
       "    'path_full': 'https://cdn.akamai.steamstatic.com/steam/apps/1643320/ss_1d8fd0eb5c837f702f57abcdc9e66f8b6008c83a.1920x1080.jpg?t=1676898117'},\n",
       "   {'id': 13,\n",
       "    'path_thumbnail': 'https://cdn.akamai.steamstatic.com/steam/apps/1643320/ss_4cd83e653302f30b22bfeff5b0c897d803d77662.600x338.jpg?t=1676898117',\n",
       "    'path_full': 'https://cdn.akamai.steamstatic.com/steam/apps/1643320/ss_4cd83e653302f30b22bfeff5b0c897d803d77662.1920x1080.jpg?t=1676898117'},\n",
       "   {'id': 14,\n",
       "    'path_thumbnail': 'https://cdn.akamai.steamstatic.com/steam/apps/1643320/ss_9325ae1c546ba78595c54e75002e4b35b2d84ab3.600x338.jpg?t=1676898117',\n",
       "    'path_full': 'https://cdn.akamai.steamstatic.com/steam/apps/1643320/ss_9325ae1c546ba78595c54e75002e4b35b2d84ab3.1920x1080.jpg?t=1676898117'}],\n",
       "  'movies': [{'id': 256923250,\n",
       "    'name': 'S.T.A.L.K.E.R. 2: Heart of Chornobyl - Come To Me Official Trailer',\n",
       "    'thumbnail': 'https://cdn.akamai.steamstatic.com/steam/apps/256923250/movie.293x165.jpg?t=1672344496',\n",
       "    'webm': {'480': 'http://cdn.akamai.steamstatic.com/steam/apps/256923250/movie480_vp9.webm?t=1672344496',\n",
       "     'max': 'http://cdn.akamai.steamstatic.com/steam/apps/256923250/movie_max_vp9.webm?t=1672344496'},\n",
       "    'mp4': {'480': 'http://cdn.akamai.steamstatic.com/steam/apps/256923250/movie480.mp4?t=1672344496',\n",
       "     'max': 'http://cdn.akamai.steamstatic.com/steam/apps/256923250/movie_max.mp4?t=1672344496'},\n",
       "    'highlight': True},\n",
       "   {'id': 256837730,\n",
       "    'name': 'S.T.A.L.K.E.R. 2: Heart of Chornobyl – Official Gameplay Trailer',\n",
       "    'thumbnail': 'https://cdn.akamai.steamstatic.com/steam/apps/256837730/movie.293x165.jpg?t=1647431449',\n",
       "    'webm': {'480': 'http://cdn.akamai.steamstatic.com/steam/apps/256837730/movie480_vp9.webm?t=1647431449',\n",
       "     'max': 'http://cdn.akamai.steamstatic.com/steam/apps/256837730/movie_max_vp9.webm?t=1647431449'},\n",
       "    'mp4': {'480': 'http://cdn.akamai.steamstatic.com/steam/apps/256837730/movie480.mp4?t=1647431449',\n",
       "     'max': 'http://cdn.akamai.steamstatic.com/steam/apps/256837730/movie_max.mp4?t=1647431449'},\n",
       "    'highlight': True},\n",
       "   {'id': 256891964,\n",
       "    'name': 'S.T.A.L.K.E.R. 2: Heart Of Chornobyl – Enter the Zone Official Trailer',\n",
       "    'thumbnail': 'https://cdn.akamai.steamstatic.com/steam/apps/256891964/movie.293x165.jpg?t=1672344224',\n",
       "    'webm': {'480': 'http://cdn.akamai.steamstatic.com/steam/apps/256891964/movie480_vp9.webm?t=1672344224',\n",
       "     'max': 'http://cdn.akamai.steamstatic.com/steam/apps/256891964/movie_max_vp9.webm?t=1672344224'},\n",
       "    'mp4': {'480': 'http://cdn.akamai.steamstatic.com/steam/apps/256891964/movie480.mp4?t=1672344224',\n",
       "     'max': 'http://cdn.akamai.steamstatic.com/steam/apps/256891964/movie_max.mp4?t=1672344224'},\n",
       "    'highlight': True},\n",
       "   {'id': 256837680,\n",
       "    'name': 'S.T.A.L.K.E.R. 2: Heart of Chornobyl – Official Gameplay Teaser',\n",
       "    'thumbnail': 'https://cdn.akamai.steamstatic.com/steam/apps/256837680/movie.293x165.jpg?t=1647431453',\n",
       "    'webm': {'480': 'http://cdn.akamai.steamstatic.com/steam/apps/256837680/movie480_vp9.webm?t=1647431453',\n",
       "     'max': 'http://cdn.akamai.steamstatic.com/steam/apps/256837680/movie_max_vp9.webm?t=1647431453'},\n",
       "    'mp4': {'480': 'http://cdn.akamai.steamstatic.com/steam/apps/256837680/movie480.mp4?t=1647431453',\n",
       "     'max': 'http://cdn.akamai.steamstatic.com/steam/apps/256837680/movie_max.mp4?t=1647431453'},\n",
       "    'highlight': True}],\n",
       "  'release_date': {'coming_soon': True, 'date': 'December 2023'},\n",
       "  'support_info': {'url': 'https://www.stalker2.com/',\n",
       "   'email': 'info@stalker2.com'},\n",
       "  'background': 'https://cdn.akamai.steamstatic.com/steam/apps/1643320/page_bg_generated_v6b.jpg?t=1676898117',\n",
       "  'background_raw': 'https://cdn.akamai.steamstatic.com/steam/apps/1643320/page.bg.jpg?t=1676898117',\n",
       "  'content_descriptors': {'ids': [2, 5], 'notes': None}}}"
      ]
     },
     "execution_count": 13,
     "metadata": {},
     "output_type": "execute_result"
    }
   ],
   "source": [
    "json.loads(steam.apps.get_app_details(ids[0]))[str(ids[0])]"
   ]
  },
  {
   "cell_type": "code",
   "execution_count": 42,
   "id": "7391cccd",
   "metadata": {},
   "outputs": [],
   "source": [
    "cols = list(json.loads(steam.apps.get_app_details(ids[0]))[str(ids[0])]['data'].keys())"
   ]
  },
  {
   "cell_type": "code",
   "execution_count": 53,
   "id": "dedd3051",
   "metadata": {},
   "outputs": [
    {
     "data": {
      "text/plain": [
       "['ext_user_account_notice',\n",
       " 'drm_notice',\n",
       " 'about_the_game',\n",
       " 'price_overview',\n",
       " 'controller_support',\n",
       " 'background',\n",
       " 'support_info',\n",
       " 'website',\n",
       " 'legal_notice',\n",
       " 'genres',\n",
       " 'header_image',\n",
       " 'pc_requirements',\n",
       " 'publishers',\n",
       " 'short_description',\n",
       " 'required_age',\n",
       " 'name',\n",
       " 'content_descriptors',\n",
       " 'categories',\n",
       " 'background_raw',\n",
       " 'developers',\n",
       " 'demos',\n",
       " 'is_free',\n",
       " 'packages',\n",
       " 'movies',\n",
       " 'release_date',\n",
       " 'type',\n",
       " 'supported_languages',\n",
       " 'dlc',\n",
       " 'steam_appid',\n",
       " 'reviews',\n",
       " 'package_groups',\n",
       " 'platforms',\n",
       " 'mac_requirements',\n",
       " 'screenshots',\n",
       " 'detailed_description',\n",
       " 'linux_requirements']"
      ]
     },
     "execution_count": 53,
     "metadata": {},
     "output_type": "execute_result"
    }
   ],
   "source": [
    "cols.extend(['drm_notice', 'dlc', 'ext_user_account_notice', 'demos'])\n",
    "cols = list(set(cols))\n",
    "cols"
   ]
  },
  {
   "cell_type": "code",
   "execution_count": 51,
   "id": "e19c6f6b",
   "metadata": {},
   "outputs": [
    {
     "data": {
      "text/plain": [
       "['ext_user_account_notice',\n",
       " 'drm_notice',\n",
       " 'about_the_game',\n",
       " 'price_overview',\n",
       " 'controller_support',\n",
       " 'background',\n",
       " 'support_info',\n",
       " 'website',\n",
       " 'legal_notice',\n",
       " 'genres',\n",
       " 'header_image',\n",
       " 'pc_requirements',\n",
       " 'publishers',\n",
       " 'short_description',\n",
       " 'required_age',\n",
       " 'name',\n",
       " 'content_descriptors',\n",
       " 'categories',\n",
       " 'background_raw',\n",
       " 'developers',\n",
       " 'is_free',\n",
       " 'packages',\n",
       " 'movies',\n",
       " 'release_date',\n",
       " 'type',\n",
       " 'supported_languages',\n",
       " 'dlc',\n",
       " 'steam_appid',\n",
       " 'reviews',\n",
       " 'package_groups',\n",
       " 'platforms',\n",
       " 'mac_requirements',\n",
       " 'screenshots',\n",
       " 'detailed_description',\n",
       " 'linux_requirements']"
      ]
     },
     "execution_count": 51,
     "metadata": {},
     "output_type": "execute_result"
    }
   ],
   "source": []
  },
  {
   "cell_type": "code",
   "execution_count": 12,
   "id": "f4ded719",
   "metadata": {},
   "outputs": [],
   "source": [
    "# Run blocks before here first"
   ]
  },
  {
   "cell_type": "code",
   "execution_count": 22,
   "id": "fa32fee7",
   "metadata": {},
   "outputs": [],
   "source": [
    "import csv"
   ]
  },
  {
   "cell_type": "code",
   "execution_count": 27,
   "id": "6be30c42",
   "metadata": {},
   "outputs": [],
   "source": [
    "with open('data/testapi.csv', 'w', newline=\"\") as f:\n",
    "    writer = csv.DictWriter(f, fieldnames = cols)\n",
    "    writer.writeheader()\n",
    "    writer.writerow(json.loads(steam.apps.get_app_details(ids[0]))[str(ids[0])]['data'])"
   ]
  },
  {
   "cell_type": "code",
   "execution_count": 62,
   "id": "d2545d71",
   "metadata": {},
   "outputs": [
    {
     "name": "stdout",
     "output_type": "stream",
     "text": [
      "<class 'pandas.core.frame.DataFrame'>\n",
      "RangeIndex: 1894 entries, 0 to 1893\n",
      "Data columns (total 36 columns):\n",
      " #   Column                   Non-Null Count  Dtype \n",
      "---  ------                   --------------  ----- \n",
      " 0   ext_user_account_notice  974 non-null    object\n",
      " 1   drm_notice               998 non-null    object\n",
      " 2   about_the_game           1894 non-null   object\n",
      " 3   price_overview           1846 non-null   object\n",
      " 4   controller_support       1302 non-null   object\n",
      " 5   background               1894 non-null   object\n",
      " 6   support_info             1894 non-null   object\n",
      " 7   website                  1535 non-null   object\n",
      " 8   legal_notice             1411 non-null   object\n",
      " 9   genres                   1894 non-null   object\n",
      " 10  header_image             1894 non-null   object\n",
      " 11  pc_requirements          1894 non-null   object\n",
      " 12  publishers               1894 non-null   object\n",
      " 13  short_description        1894 non-null   object\n",
      " 14  required_age             1894 non-null   object\n",
      " 15  name                     1894 non-null   object\n",
      " 16  content_descriptors      1894 non-null   object\n",
      " 17  categories               1886 non-null   object\n",
      " 18  background_raw           1894 non-null   object\n",
      " 19  developers               1894 non-null   object\n",
      " 20  demos                    1052 non-null   object\n",
      " 21  is_free                  1894 non-null   object\n",
      " 22  packages                 1858 non-null   object\n",
      " 23  movies                   1704 non-null   object\n",
      " 24  release_date             1894 non-null   object\n",
      " 25  type                     1894 non-null   object\n",
      " 26  supported_languages      1894 non-null   object\n",
      " 27  dlc                      1108 non-null   object\n",
      " 28  steam_appid              1894 non-null   object\n",
      " 29  reviews                  1041 non-null   object\n",
      " 30  package_groups           1894 non-null   object\n",
      " 31  platforms                1894 non-null   object\n",
      " 32  mac_requirements         1894 non-null   object\n",
      " 33  screenshots              1894 non-null   object\n",
      " 34  detailed_description     1894 non-null   object\n",
      " 35  linux_requirements       1894 non-null   object\n",
      "dtypes: object(36)\n",
      "memory usage: 532.8+ KB\n"
     ]
    }
   ],
   "source": [
    "path = 'data/grabapi.csv'\n",
    "test = pd.DataFrame(pd.read_csv(path))\n",
    "test.info()"
   ]
  },
  {
   "cell_type": "code",
   "execution_count": 56,
   "id": "3f883615",
   "metadata": {},
   "outputs": [
    {
     "data": {
      "text/plain": [
       "2119490"
      ]
     },
     "execution_count": 56,
     "metadata": {},
     "output_type": "execute_result"
    }
   ],
   "source": [
    "ids[947]"
   ]
  },
  {
   "cell_type": "code",
   "execution_count": 60,
   "id": "e9f66df4",
   "metadata": {},
   "outputs": [
    {
     "data": {
      "text/plain": [
       "{'2119490': {'success': False}}"
      ]
     },
     "execution_count": 60,
     "metadata": {},
     "output_type": "execute_result"
    }
   ],
   "source": [
    "json.loads(steam.apps.get_app_details(2119490))"
   ]
  },
  {
   "cell_type": "code",
   "execution_count": 63,
   "id": "fe03ac0e",
   "metadata": {},
   "outputs": [
    {
     "name": "stderr",
     "output_type": "stream",
     "text": [
      "100%|██████████| 9034/9034 [2:55:18<00:00,  1.16s/it]  \n"
     ]
    }
   ],
   "source": [
    "gamesInfo = []\n",
    "breaks = []\n",
    "with open('data/grab1api.csv', 'w', newline=\"\") as f:\n",
    "    writer = csv.DictWriter(f, fieldnames = cols, extrasaction='ignore')\n",
    "    writer.writeheader()\n",
    "    for i in tqdm(ids):\n",
    "        try:        \n",
    "            grab = json.loads(steam.apps.get_app_details(i))[str(i)]['data']\n",
    "            gamesInfo.append(grab)\n",
    "            writer.writerow(grab)\n",
    "            time.sleep(0.5)\n",
    "        except:\n",
    "            breaks.append(str(i))\n",
    "            time.sleep(0.5)"
   ]
  },
  {
   "cell_type": "code",
   "execution_count": 67,
   "id": "68b1c216",
   "metadata": {},
   "outputs": [],
   "source": [
    "# Store breaks in csv\n",
    "breaks_df = pd.DataFrame(breaks, columns=['ID'])\n",
    "breaks_df.to_csv('data/breaks.csv', index=False)"
   ]
  },
  {
   "cell_type": "code",
   "execution_count": 72,
   "id": "3f745d40",
   "metadata": {},
   "outputs": [
    {
     "data": {
      "text/plain": [
       "(1147, 1)"
      ]
     },
     "execution_count": 72,
     "metadata": {},
     "output_type": "execute_result"
    }
   ],
   "source": [
    "breaks_df.shape"
   ]
  },
  {
   "cell_type": "code",
   "execution_count": 71,
   "id": "e92be049",
   "metadata": {},
   "outputs": [
    {
     "data": {
      "text/plain": [
       "823"
      ]
     },
     "execution_count": 71,
     "metadata": {},
     "output_type": "execute_result"
    }
   ],
   "source": [
    "# New sql table for data compilation\n",
    "path = 'data/grab1api.csv'\n",
    "api_data = pd.DataFrame(pd.read_csv(path))\n",
    "\n",
    "\n",
    "url_object = URL.create(\n",
    "                \"postgresql+psycopg2\",\n",
    "                host='steam-db.c5m99euxia00.us-east-1.rds.amazonaws.com',\n",
    "                username=secrets.get('user'),\n",
    "                port=5432,\n",
    "                password=secrets.get('password'),\n",
    "                database='steam_db')\n",
    "\n",
    "\n",
    "engine = create_engine(url_object)\n",
    "engine.connect()\n",
    "\n",
    "api_data.to_sql(name='apiData', con=engine, if_exists='replace')"
   ]
  },
  {
   "cell_type": "code",
   "execution_count": null,
   "id": "c97ae0cd",
   "metadata": {},
   "outputs": [],
   "source": []
  },
  {
   "cell_type": "code",
   "execution_count": null,
   "id": "8c90a736",
   "metadata": {},
   "outputs": [],
   "source": []
  },
  {
   "cell_type": "code",
   "execution_count": null,
   "id": "b1310846",
   "metadata": {},
   "outputs": [],
   "source": []
  },
  {
   "cell_type": "code",
   "execution_count": null,
   "id": "3c55e46c",
   "metadata": {},
   "outputs": [],
   "source": []
  },
  {
   "cell_type": "code",
   "execution_count": 36,
   "id": "56406848",
   "metadata": {},
   "outputs": [
    {
     "name": "stderr",
     "output_type": "stream",
     "text": [
      "  0%|          | 3/9034 [00:06<5:27:20,  2.17s/it]"
     ]
    },
    {
     "name": "stdout",
     "output_type": "stream",
     "text": [
      "1868170\n"
     ]
    },
    {
     "name": "stderr",
     "output_type": "stream",
     "text": [
      "  0%|          | 4/9034 [00:08<5:28:43,  2.18s/it]"
     ]
    },
    {
     "name": "stdout",
     "output_type": "stream",
     "text": [
      "1810820\n"
     ]
    },
    {
     "name": "stderr",
     "output_type": "stream",
     "text": [
      "  0%|          | 5/9034 [00:10<5:28:32,  2.18s/it]"
     ]
    },
    {
     "name": "stdout",
     "output_type": "stream",
     "text": [
      "1868180\n"
     ]
    },
    {
     "name": "stderr",
     "output_type": "stream",
     "text": [
      "  0%|          | 6/9034 [00:13<5:27:59,  2.18s/it]"
     ]
    },
    {
     "name": "stdout",
     "output_type": "stream",
     "text": [
      "1485590\n"
     ]
    },
    {
     "name": "stderr",
     "output_type": "stream",
     "text": [
      "  0%|          | 7/9034 [00:15<5:22:54,  2.15s/it]"
     ]
    },
    {
     "name": "stdout",
     "output_type": "stream",
     "text": [
      "1294810\n"
     ]
    },
    {
     "name": "stderr",
     "output_type": "stream",
     "text": [
      "  0%|          | 8/9034 [00:17<5:21:15,  2.14s/it]"
     ]
    },
    {
     "name": "stdout",
     "output_type": "stream",
     "text": [
      "1774580\n"
     ]
    },
    {
     "name": "stderr",
     "output_type": "stream",
     "text": [
      "  0%|          | 9/9034 [00:19<5:23:22,  2.15s/it]"
     ]
    },
    {
     "name": "stdout",
     "output_type": "stream",
     "text": [
      "1798020\n"
     ]
    },
    {
     "name": "stderr",
     "output_type": "stream",
     "text": [
      "  0%|          | 10/9034 [00:21<5:22:21,  2.14s/it]"
     ]
    },
    {
     "name": "stdout",
     "output_type": "stream",
     "text": [
      "482400\n"
     ]
    },
    {
     "name": "stderr",
     "output_type": "stream",
     "text": [
      "  0%|          | 11/9034 [00:23<4:59:54,  1.99s/it]"
     ]
    },
    {
     "name": "stdout",
     "output_type": "stream",
     "text": [
      "2109370\n"
     ]
    },
    {
     "name": "stderr",
     "output_type": "stream",
     "text": [
      "  0%|          | 12/9034 [00:25<5:06:49,  2.04s/it]"
     ]
    },
    {
     "name": "stdout",
     "output_type": "stream",
     "text": [
      "1593030\n"
     ]
    },
    {
     "name": "stderr",
     "output_type": "stream",
     "text": [
      "  0%|          | 14/9034 [00:29<5:14:54,  2.09s/it]"
     ]
    },
    {
     "name": "stdout",
     "output_type": "stream",
     "text": [
      "2254450\n"
     ]
    },
    {
     "name": "stderr",
     "output_type": "stream",
     "text": [
      "  0%|          | 15/9034 [00:31<5:20:41,  2.13s/it]"
     ]
    },
    {
     "name": "stdout",
     "output_type": "stream",
     "text": [
      "1677350\n"
     ]
    },
    {
     "name": "stderr",
     "output_type": "stream",
     "text": [
      "  0%|          | 17/9034 [00:36<5:21:20,  2.14s/it]"
     ]
    },
    {
     "name": "stdout",
     "output_type": "stream",
     "text": [
      "2050650\n"
     ]
    },
    {
     "name": "stderr",
     "output_type": "stream",
     "text": [
      "  0%|          | 18/9034 [00:38<5:18:01,  2.12s/it]"
     ]
    },
    {
     "name": "stdout",
     "output_type": "stream",
     "text": [
      "820520\n"
     ]
    },
    {
     "name": "stderr",
     "output_type": "stream",
     "text": [
      "  0%|          | 19/9034 [00:40<5:16:01,  2.10s/it]"
     ]
    },
    {
     "name": "stdout",
     "output_type": "stream",
     "text": [
      "1942660\n"
     ]
    },
    {
     "name": "stderr",
     "output_type": "stream",
     "text": [
      "  0%|          | 20/9034 [00:42<5:14:59,  2.10s/it]"
     ]
    },
    {
     "name": "stdout",
     "output_type": "stream",
     "text": [
      "1904392\n"
     ]
    },
    {
     "name": "stderr",
     "output_type": "stream",
     "text": [
      "  0%|          | 21/9034 [00:44<5:20:42,  2.14s/it]"
     ]
    },
    {
     "name": "stdout",
     "output_type": "stream",
     "text": [
      "2277860\n"
     ]
    },
    {
     "name": "stderr",
     "output_type": "stream",
     "text": [
      "  0%|          | 25/9034 [00:53<5:24:11,  2.16s/it]"
     ]
    },
    {
     "name": "stdout",
     "output_type": "stream",
     "text": [
      "1448440\n"
     ]
    },
    {
     "name": "stderr",
     "output_type": "stream",
     "text": [
      "  0%|          | 26/9034 [00:55<5:20:18,  2.13s/it]"
     ]
    },
    {
     "name": "stdout",
     "output_type": "stream",
     "text": [
      "1945340\n"
     ]
    },
    {
     "name": "stderr",
     "output_type": "stream",
     "text": [
      "  0%|          | 26/9034 [00:57<5:32:54,  2.22s/it]\n"
     ]
    },
    {
     "ename": "KeyboardInterrupt",
     "evalue": "",
     "output_type": "error",
     "traceback": [
      "\u001b[1;31m---------------------------------------------------------------------------\u001b[0m",
      "\u001b[1;31mValueError\u001b[0m                                Traceback (most recent call last)",
      "Cell \u001b[1;32mIn[36], line 16\u001b[0m\n\u001b[0;32m     15\u001b[0m time\u001b[39m.\u001b[39msleep(\u001b[39m0.5\u001b[39m)\n\u001b[1;32m---> 16\u001b[0m writer\u001b[39m.\u001b[39;49mwriterow(grab)\n\u001b[0;32m     18\u001b[0m \u001b[39m# writer.writerow(json.loads(steam.apps.get_app_details(i))[str(i)]['data'])\u001b[39;00m\n\u001b[0;32m     19\u001b[0m \n\u001b[0;32m     20\u001b[0m \u001b[39m# Write each entry to file to check for breaks later\u001b[39;00m\n\u001b[0;32m     21\u001b[0m \u001b[39m# with open('data/steamapi.csv', 'w') as f:\u001b[39;00m\n\u001b[0;32m     22\u001b[0m \u001b[39m#     f.write(json.loads(steam.apps.get_app_details(i))[str(i)]['data'])\u001b[39;00m\n",
      "File \u001b[1;32mc:\\Users\\admin\\miniconda3\\envs\\steam\\lib\\csv.py:154\u001b[0m, in \u001b[0;36mDictWriter.writerow\u001b[1;34m(self, rowdict)\u001b[0m\n\u001b[0;32m    153\u001b[0m \u001b[39mdef\u001b[39;00m \u001b[39mwriterow\u001b[39m(\u001b[39mself\u001b[39m, rowdict):\n\u001b[1;32m--> 154\u001b[0m     \u001b[39mreturn\u001b[39;00m \u001b[39mself\u001b[39m\u001b[39m.\u001b[39mwriter\u001b[39m.\u001b[39mwriterow(\u001b[39mself\u001b[39;49m\u001b[39m.\u001b[39;49m_dict_to_list(rowdict))\n",
      "File \u001b[1;32mc:\\Users\\admin\\miniconda3\\envs\\steam\\lib\\csv.py:149\u001b[0m, in \u001b[0;36mDictWriter._dict_to_list\u001b[1;34m(self, rowdict)\u001b[0m\n\u001b[0;32m    148\u001b[0m     \u001b[39mif\u001b[39;00m wrong_fields:\n\u001b[1;32m--> 149\u001b[0m         \u001b[39mraise\u001b[39;00m \u001b[39mValueError\u001b[39;00m(\u001b[39m\"\u001b[39m\u001b[39mdict contains fields not in fieldnames: \u001b[39m\u001b[39m\"\u001b[39m\n\u001b[0;32m    150\u001b[0m                          \u001b[39m+\u001b[39m \u001b[39m\"\u001b[39m\u001b[39m, \u001b[39m\u001b[39m\"\u001b[39m\u001b[39m.\u001b[39mjoin([\u001b[39mrepr\u001b[39m(x) \u001b[39mfor\u001b[39;00m x \u001b[39min\u001b[39;00m wrong_fields]))\n\u001b[0;32m    151\u001b[0m \u001b[39mreturn\u001b[39;00m (rowdict\u001b[39m.\u001b[39mget(key, \u001b[39mself\u001b[39m\u001b[39m.\u001b[39mrestval) \u001b[39mfor\u001b[39;00m key \u001b[39min\u001b[39;00m \u001b[39mself\u001b[39m\u001b[39m.\u001b[39mfieldnames)\n",
      "\u001b[1;31mValueError\u001b[0m: dict contains fields not in fieldnames: 'fullgame'",
      "\nDuring handling of the above exception, another exception occurred:\n",
      "\u001b[1;31mKeyboardInterrupt\u001b[0m                         Traceback (most recent call last)",
      "Cell \u001b[1;32mIn[36], line 34\u001b[0m\n\u001b[0;32m     31\u001b[0m \u001b[39mwith\u001b[39;00m \u001b[39mopen\u001b[39m(\u001b[39m'\u001b[39m\u001b[39mdata/breaksapi.csv\u001b[39m\u001b[39m'\u001b[39m, \u001b[39m'\u001b[39m\u001b[39mw\u001b[39m\u001b[39m'\u001b[39m) \u001b[39mas\u001b[39;00m f:\n\u001b[0;32m     32\u001b[0m     f\u001b[39m.\u001b[39mwrite(\u001b[39mstr\u001b[39m(i))\n\u001b[1;32m---> 34\u001b[0m time\u001b[39m.\u001b[39;49msleep(\u001b[39m1\u001b[39;49m)\n",
      "\u001b[1;31mKeyboardInterrupt\u001b[0m: "
     ]
    }
   ],
   "source": [
    "# Need to sleep between every request else it will fail. 1.5 breaks after 30 minutes in the 1100s\n",
    "\n",
    "gamesInfo = []\n",
    "exceptions = []\n",
    "with open('data/grabapi.csv', 'w', newline=\"\") as f:\n",
    "    writer = csv.DictWriter(f, fieldnames = cols)\n",
    "    writer.writeheader()\n",
    "    for i in tqdm(ids):\n",
    "        try:\n",
    "            grab = json.loads(steam.apps.get_app_details(i))[str(i)]['data']\n",
    "            gamesInfo.append(grab)\n",
    "            # gamesInfo.append(json.loads(steam.apps.get_app_details(i))[str(i)]['data'])\n",
    "\n",
    "        # Write dictionary data to file to check progress\n",
    "            time.sleep(0.5)\n",
    "            writer.writerow(grab)\n",
    "\n",
    "            # writer.writerow(json.loads(steam.apps.get_app_details(i))[str(i)]['data'])\n",
    "\n",
    "            # Write each entry to file to check for breaks later\n",
    "            # with open('data/steamapi.csv', 'w') as f:\n",
    "            #     f.write(json.loads(steam.apps.get_app_details(i))[str(i)]['data'])\n",
    "\n",
    "            time.sleep(1)\n",
    "    #         steam.apps.get_app_details(i)\n",
    "\n",
    "        except:\n",
    "            print(i)\n",
    "            # exceptions.append(i)\n",
    "            \n",
    "            with open('data/breaksapi.csv', 'w') as f:\n",
    "                f.write(str(i))\n",
    "\n",
    "            time.sleep(1)"
   ]
  },
  {
   "cell_type": "code",
   "execution_count": null,
   "id": "097266ee",
   "metadata": {},
   "outputs": [],
   "source": [
    "games = pd.DataFrame(gamesInfo)\n",
    "games.to_csv('data/gamesAPI.csv', index=False)"
   ]
  },
  {
   "cell_type": "code",
   "execution_count": null,
   "id": "386e0b77",
   "metadata": {},
   "outputs": [],
   "source": []
  },
  {
   "cell_type": "code",
   "execution_count": 11,
   "id": "61cb2138",
   "metadata": {},
   "outputs": [
    {
     "data": {
      "text/plain": [
       "1643320"
      ]
     },
     "execution_count": 11,
     "metadata": {},
     "output_type": "execute_result"
    }
   ],
   "source": [
    "int(ids[0])"
   ]
  },
  {
   "cell_type": "code",
   "execution_count": 12,
   "id": "d8ed1a1a",
   "metadata": {},
   "outputs": [
    {
     "data": {
      "text/plain": [
       "'null'"
      ]
     },
     "execution_count": 12,
     "metadata": {},
     "output_type": "execute_result"
    }
   ],
   "source": [
    "steam.apps.get_app_details(ids[0])"
   ]
  },
  {
   "cell_type": "code",
   "execution_count": 13,
   "id": "66bb0e0a",
   "metadata": {},
   "outputs": [],
   "source": [
    "json.loads(steam.apps.get_app_details(ids[0]))"
   ]
  },
  {
   "cell_type": "code",
   "execution_count": 14,
   "id": "65e0b7ce",
   "metadata": {
    "scrolled": true
   },
   "outputs": [
    {
     "ename": "TypeError",
     "evalue": "'NoneType' object is not subscriptable",
     "output_type": "error",
     "traceback": [
      "\u001b[1;31m---------------------------------------------------------------------------\u001b[0m",
      "\u001b[1;31mTypeError\u001b[0m                                 Traceback (most recent call last)",
      "Cell \u001b[1;32mIn[14], line 1\u001b[0m\n\u001b[1;32m----> 1\u001b[0m \u001b[43mjson\u001b[49m\u001b[38;5;241;43m.\u001b[39;49m\u001b[43mloads\u001b[49m\u001b[43m(\u001b[49m\u001b[43msteam\u001b[49m\u001b[38;5;241;43m.\u001b[39;49m\u001b[43mapps\u001b[49m\u001b[38;5;241;43m.\u001b[39;49m\u001b[43mget_app_details\u001b[49m\u001b[43m(\u001b[49m\u001b[43mids\u001b[49m\u001b[43m[\u001b[49m\u001b[38;5;241;43m0\u001b[39;49m\u001b[43m]\u001b[49m\u001b[43m)\u001b[49m\u001b[43m)\u001b[49m\u001b[43m[\u001b[49m\u001b[43mids\u001b[49m\u001b[43m[\u001b[49m\u001b[38;5;241;43m0\u001b[39;49m\u001b[43m]\u001b[49m\u001b[43m]\u001b[49m[\u001b[38;5;124m'\u001b[39m\u001b[38;5;124mdata\u001b[39m\u001b[38;5;124m'\u001b[39m]\n",
      "\u001b[1;31mTypeError\u001b[0m: 'NoneType' object is not subscriptable"
     ]
    }
   ],
   "source": [
    "json.loads(steam.apps.get_app_details(ids[0]))[ids[0]]['data']"
   ]
  },
  {
   "cell_type": "code",
   "execution_count": null,
   "id": "f30b9c1f",
   "metadata": {},
   "outputs": [],
   "source": [
    "# Need to sleep between every request else it will fail. 0.5 works but looking for faster\n",
    "for i in tqdm(ids):\n",
    "    try:\n",
    "        steam.apps.get_app_details(i)\n",
    "        time.sleep(0.5)\n",
    "    except:\n",
    "        print(i)"
   ]
  },
  {
   "cell_type": "code",
   "execution_count": null,
   "id": "eb96945e",
   "metadata": {},
   "outputs": [],
   "source": [
    "# steamData[steamData['Unique_ID'] == 1643320]"
   ]
  },
  {
   "cell_type": "code",
   "execution_count": null,
   "id": "e6102f27",
   "metadata": {},
   "outputs": [],
   "source": [
    "# steam.apps.search_games(\"Rebel\")"
   ]
  },
  {
   "cell_type": "code",
   "execution_count": null,
   "id": "818d7b8f",
   "metadata": {},
   "outputs": [],
   "source": [
    "# steam.apps.get_app_details(1747950)"
   ]
  },
  {
   "cell_type": "code",
   "execution_count": null,
   "id": "626e1d95",
   "metadata": {},
   "outputs": [],
   "source": [
    "# app_id = 1643320\n",
    "# user = steam.apps.get_app_details(app_id)\n",
    "# user = json.loads(user)\n",
    "# user[str(app_id)]['data']"
   ]
  },
  {
   "cell_type": "code",
   "execution_count": null,
   "id": "bf658be5",
   "metadata": {},
   "outputs": [],
   "source": [
    "# steamData[steamData['Unique_ID'] == '1016950']"
   ]
  },
  {
   "cell_type": "code",
   "execution_count": null,
   "id": "b9f1d879",
   "metadata": {},
   "outputs": [],
   "source": [
    "ids.index(1643320)"
   ]
  },
  {
   "cell_type": "code",
   "execution_count": null,
   "id": "35e842a2",
   "metadata": {},
   "outputs": [],
   "source": [
    "ids[253]"
   ]
  },
  {
   "cell_type": "code",
   "execution_count": null,
   "id": "5b0c04d9",
   "metadata": {},
   "outputs": [],
   "source": []
  },
  {
   "cell_type": "code",
   "execution_count": null,
   "id": "b64b25b2",
   "metadata": {},
   "outputs": [],
   "source": [
    "ids = list(steamData['Unique_ID'].unique())"
   ]
  },
  {
   "cell_type": "code",
   "execution_count": null,
   "id": "89cfee2b",
   "metadata": {},
   "outputs": [],
   "source": [
    "# type(ids[253])"
   ]
  },
  {
   "cell_type": "code",
   "execution_count": null,
   "id": "93ae2b25",
   "metadata": {},
   "outputs": [],
   "source": [
    "# ids"
   ]
  },
  {
   "cell_type": "code",
   "execution_count": null,
   "id": "f34e16e0",
   "metadata": {},
   "outputs": [],
   "source": [
    "json.loads(steam.apps.get_app_details(ids[0]))[ids[0]]['data']"
   ]
  },
  {
   "cell_type": "code",
   "execution_count": null,
   "id": "218c123b",
   "metadata": {},
   "outputs": [],
   "source": [
    "str(ids[0])"
   ]
  },
  {
   "cell_type": "code",
   "execution_count": null,
   "id": "a852eda5",
   "metadata": {},
   "outputs": [],
   "source": [
    "# steam.apps.get_app_details(1016950)"
   ]
  },
  {
   "cell_type": "code",
   "execution_count": null,
   "id": "fc1ad6c4",
   "metadata": {},
   "outputs": [],
   "source": [
    "# json.loads(steam.apps.get_app_details(2055290))['2055290']['data']"
   ]
  },
  {
   "cell_type": "code",
   "execution_count": null,
   "id": "df3ded72",
   "metadata": {},
   "outputs": [],
   "source": [
    "# steam.apps.search_games(\"Blood Bowl 3\")"
   ]
  },
  {
   "cell_type": "code",
   "execution_count": null,
   "id": "681f1f32",
   "metadata": {},
   "outputs": [],
   "source": [
    "# steam.apps.get_app_details('1016950')"
   ]
  },
  {
   "cell_type": "code",
   "execution_count": null,
   "id": "9c2cab3b",
   "metadata": {},
   "outputs": [],
   "source": [
    "steam.apps.get_app_details(1643320)"
   ]
  },
  {
   "cell_type": "code",
   "execution_count": null,
   "id": "2675123a",
   "metadata": {},
   "outputs": [],
   "source": [
    "# Trying to loop with 0.25 sleep\n",
    "gamesInfo = []\n",
    "exceptions = []\n",
    "for i in tqdm(ids):\n",
    "    try:\n",
    "        info = steam.apps.get_app_details(i)\n",
    "        info = json.loads(info)\n",
    "        gamesInfo.append(info[i]['data'])\n",
    "        time.sleep(0.25)\n",
    "    except:\n",
    "        print(i)\n",
    "        exceptions.append(i)"
   ]
  },
  {
   "cell_type": "code",
   "execution_count": null,
   "id": "ed23eaba",
   "metadata": {},
   "outputs": [],
   "source": []
  },
  {
   "cell_type": "code",
   "execution_count": null,
   "id": "6c8fc6f0",
   "metadata": {},
   "outputs": [],
   "source": []
  },
  {
   "cell_type": "code",
   "execution_count": null,
   "id": "8a579812",
   "metadata": {},
   "outputs": [],
   "source": [
    "# Need to sleep between every request else it will fail. 0.5 works but looking for faster\n",
    "for i in tqdm(ids):\n",
    "    try:\n",
    "        steam.apps.get_app_details(i)\n",
    "        time.sleep(0.5)\n",
    "    except:\n",
    "        print(i)"
   ]
  },
  {
   "cell_type": "code",
   "execution_count": null,
   "id": "efd9e124",
   "metadata": {},
   "outputs": [],
   "source": [
    "for i in tqdm(ids):\n",
    "    try:\n",
    "        steam.apps.get_app_details(i)\n",
    "        time.sleep(0.5)\n",
    "    except:\n",
    "        print(i)"
   ]
  },
  {
   "cell_type": "code",
   "execution_count": null,
   "id": "e3ea345c",
   "metadata": {},
   "outputs": [],
   "source": []
  },
  {
   "cell_type": "code",
   "execution_count": null,
   "id": "00bbf77b",
   "metadata": {},
   "outputs": [],
   "source": []
  },
  {
   "cell_type": "code",
   "execution_count": null,
   "id": "9091ab20",
   "metadata": {},
   "outputs": [],
   "source": []
  },
  {
   "cell_type": "code",
   "execution_count": null,
   "id": "9ab718c5",
   "metadata": {},
   "outputs": [],
   "source": []
  },
  {
   "cell_type": "code",
   "execution_count": null,
   "id": "7b77a109",
   "metadata": {},
   "outputs": [],
   "source": [
    "gamesInfo = []\n",
    "exceptions = []\n",
    "for i in tqdm(range(len(ids))):\n",
    "    try:\n",
    "        info = steam.apps.get_app_details(ids[i])\n",
    "        info = json.loads(info)\n",
    "        gamesInfo.append(info[str(ids[i])]['data'])\n",
    "    # gamesInfo.append(data[str(id)]['data'])\n",
    "    except TypeError:\n",
    "        print(\"TypeError\", ids[i])\n",
    "        exceptions.append(ids[i])\n",
    "    except JSONDecodeError:\n",
    "        print(\"JSONDecodeError\", ids[i])\n",
    "        exceptions.append(ids[i])\n"
   ]
  },
  {
   "cell_type": "code",
   "execution_count": null,
   "id": "643fe7e8",
   "metadata": {},
   "outputs": [],
   "source": [
    "app_id = 1643320\n",
    "user = steam.apps.get_app_details(app_id)\n",
    "user = json.loads(user)"
   ]
  },
  {
   "cell_type": "code",
   "execution_count": null,
   "id": "dd764711",
   "metadata": {},
   "outputs": [],
   "source": [
    "# gamesInfo = []\n",
    "# exceptions = []\n",
    "# for id in tqdm(ids):\n",
    "#     try:\n",
    "#         data = json.loads(steam.apps.get_app_details(id))\n",
    "#         gamesInfo.append(data[str(id)]['data'])\n",
    "#     except:\n",
    "#         exceptions.append(id)"
   ]
  },
  {
   "cell_type": "code",
   "execution_count": null,
   "id": "41b2ded7",
   "metadata": {},
   "outputs": [],
   "source": []
  },
  {
   "cell_type": "code",
   "execution_count": null,
   "id": "d3b96b55",
   "metadata": {},
   "outputs": [],
   "source": [
    "steam_id = 1677350\n",
    "user = steam.apps.get_app_details(steam_id)\n",
    "print(user)"
   ]
  },
  {
   "cell_type": "code",
   "execution_count": null,
   "id": "f6c44d82",
   "metadata": {},
   "outputs": [],
   "source": [
    "steam.apps.get_app_details(1677350)"
   ]
  },
  {
   "cell_type": "code",
   "execution_count": null,
   "id": "d9e9098d",
   "metadata": {},
   "outputs": [],
   "source": [
    "id = 1643320\n",
    "data = json.loads(steam.apps.get_app_details(id))\n",
    "data[str(id)]['data']"
   ]
  },
  {
   "cell_type": "code",
   "execution_count": null,
   "id": "3834fc86",
   "metadata": {},
   "outputs": [],
   "source": [
    "exceptions"
   ]
  },
  {
   "cell_type": "code",
   "execution_count": null,
   "id": "986e02c6",
   "metadata": {},
   "outputs": [],
   "source": [
    "app_id = 1420350\n",
    "user = steam.apps.get_app_details(app_id)\n",
    "user = json.loads(user)\n",
    "print(user)"
   ]
  },
  {
   "cell_type": "code",
   "execution_count": null,
   "id": "30c63494",
   "metadata": {},
   "outputs": [],
   "source": [
    "user['1643320']['data']['package_groups']"
   ]
  },
  {
   "cell_type": "code",
   "execution_count": null,
   "id": "0d910103",
   "metadata": {},
   "outputs": [],
   "source": []
  }
 ],
 "metadata": {
  "kernelspec": {
   "display_name": "steam",
   "language": "python",
   "name": "steam"
  },
  "language_info": {
   "codemirror_mode": {
    "name": "ipython",
    "version": 3
   },
   "file_extension": ".py",
   "mimetype": "text/x-python",
   "name": "python",
   "nbconvert_exporter": "python",
   "pygments_lexer": "ipython3",
   "version": "3.8.16"
  }
 },
 "nbformat": 4,
 "nbformat_minor": 5
}
