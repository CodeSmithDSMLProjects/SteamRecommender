{
 "cells": [
  {
   "cell_type": "code",
   "execution_count": 67,
   "metadata": {},
   "outputs": [],
   "source": [
    "from selenium import webdriver\n",
    "from selenium.webdriver.chrome.service import Service\n",
    "from selenium.webdriver.common.by import By\n",
    "from selenium.webdriver.support.select import Select\n",
    "from selenium.webdriver.common.action_chains import ActionChains\n",
    "from selenium.webdriver.support.ui import WebDriverWait\n",
    "from selenium.webdriver.support import expected_conditions as EC\n",
    "from selenium.webdriver.common.keys import Keys\n",
    "from selenium.webdriver.chrome.options import Options\n",
    "import re\n",
    "import time\n",
    "import pandas as pd"
   ]
  },
  {
   "cell_type": "code",
   "execution_count": 68,
   "metadata": {},
   "outputs": [],
   "source": [
    "service = Service('/users/paulj/chromedriver')\n",
    "driver = webdriver.Chrome(service=service)\n",
    "driver.get(\"https://store.steampowered.com/search/?sort_by=Released_DESC&filter=topsellers&supportedlang=english\")\n",
    "\n",
    "element = driver.find_element(By.ID, 'search_resultsRows')\n",
    "row_dict = {}\n",
    "outside_array = []\n",
    "\n",
    "# scroll to bottom\n",
    "last_height = driver.execute_script(\"return document.body.scrollHeight\")\n",
    "while True:\n",
    "    # Scroll down to the bottom.\n",
    "    driver.execute_script(\"window.scrollTo(0, document.body.scrollHeight);\")\n",
    "\n",
    "    # Wait to load the page.\n",
    "    time.sleep(3)\n",
    "\n",
    "    # Calculate new scroll height and compare with last scroll height.\n",
    "    new_height = driver.execute_script(\"return document.body.scrollHeight\")\n",
    "\n",
    "    if new_height == last_height:\n",
    "\n",
    "        break\n",
    "\n",
    "    last_height = new_height\n",
    "\n",
    "for row in element.find_elements(By.CSS_SELECTOR, 'a'):\n",
    "    # row.find_element(By.CLASS_NAME, 'title').get_attribute('innerHTML')\n",
    "    # row.get_attribute(By.ID, 'data-ds-tagids')\n",
    "    row_dict[row.find_element(By.CLASS_NAME, 'title').get_attribute('innerHTML')] = row.get_attribute('data-ds-tagids')\n",
    "    inside_array = []\n",
    "    inside_array.append(row.find_element(By.CLASS_NAME, 'title').get_attribute('innerHTML'))\n",
    "    inside_array.append(row.get_attribute('data-ds-tagids'))\n",
    "    # inside_array.append(row.find_element(By.CLASS_NAME, ''))\n",
    "    if len(row.find_elements(By.CLASS_NAME, 'win')) > 0:\n",
    "        inside_array.append(\"windows\")\n",
    "    else:\n",
    "        inside_array.append(\"\")\n",
    "    if len(row.find_elements(By.CLASS_NAME, 'mac')) > 0:\n",
    "        inside_array.append(\"mac\")\n",
    "    else:\n",
    "        inside_array.append(\"\")\n",
    "    if len(row.find_elements(By.CLASS_NAME, 'linux')) > 0:\n",
    "        inside_array.append(\"linux\")\n",
    "    else:\n",
    "        inside_array.append(\"\")\n",
    "    \n",
    "    if len(row.find_elements(By.CLASS_NAME, 'positive')) > 0 or len(row.find_elements(By.CLASS_NAME, 'mixed')) > 0 or len(row.find_elements(By.CLASS_NAME, 'negative')) > 0:\n",
    "        review = row.find_element(By.CLASS_NAME, 'search_review_summary').get_attribute('data-tooltip-html')\n",
    "        numbers = re.findall(r'\\d+', review)\n",
    "        inside_array.append(review.split('<br>')[0])\n",
    "        inside_array.append(numbers[0] + '%' + ' of positive reviews')\n",
    "        inside_array.append(numbers[1] + \" total reviews\")\n",
    "    else:\n",
    "        inside_array.append(\"Not Rated\")\n",
    "        inside_array.append(\"Not Rated\")\n",
    "        inside_array.append(\"Not Rated\")\n",
    "\n",
    "    inside_array.append(row.find_element(By.CLASS_NAME, 'search_released').get_attribute('innerHTML'))\n",
    "    if len(row.find_element(By.CLASS_NAME, 'search_discount').get_attribute('innerHTML').strip()) > 0: \n",
    "        inside_array.append('-' + row.find_element(By.CLASS_NAME, 'search_discount').get_attribute('innerHTML').split('%')[-2][-2:] + '%')\n",
    "    else:\n",
    "        inside_array.append(\"No Discount\")\n",
    "    inside_array.append(row.find_element(By.CLASS_NAME, 'search_price').get_attribute('innerHTML').split('$')[-1].strip())\n",
    "    outside_array.append(inside_array)\n"
   ]
  },
  {
   "cell_type": "code",
   "execution_count": 69,
   "metadata": {},
   "outputs": [
    {
     "data": {
      "text/plain": [
       "['Destiny 2: Lightfall',\n",
       " '[19,21,113,1663,1695,353880,1754]',\n",
       " 'windows',\n",
       " '',\n",
       " '',\n",
       " 'Positive',\n",
       " '95% of positive reviews',\n",
       " '22 total reviews',\n",
       " 'Feb 28, 2023',\n",
       " 'No Discount',\n",
       " '49.99']"
      ]
     },
     "execution_count": 69,
     "metadata": {},
     "output_type": "execute_result"
    }
   ],
   "source": [
    "outside_array[26]"
   ]
  },
  {
   "cell_type": "code",
   "execution_count": 5,
   "metadata": {},
   "outputs": [
    {
     "data": {
      "text/plain": [
       "3271"
      ]
     },
     "execution_count": 5,
     "metadata": {},
     "output_type": "execute_result"
    }
   ],
   "source": [
    "# scroll to bottom\n",
    "last_height = driver.execute_script(\"return document.body.scrollHeight\")\n",
    "while True:\n",
    "    # Scroll down to the bottom.\n",
    "    driver.execute_script(\"window.scrollTo(0, document.body.scrollHeight);\")\n",
    "\n",
    "    # Wait to load the page.\n",
    "    time.sleep(3)\n",
    "\n",
    "    # Calculate new scroll height and compare with last scroll height.\n",
    "    new_height = driver.execute_script(\"return document.body.scrollHeight\")\n",
    "\n",
    "    if new_height == last_height:\n",
    "\n",
    "        break\n",
    "\n",
    "    last_height = new_height"
   ]
  },
  {
   "cell_type": "code",
   "execution_count": 8,
   "metadata": {},
   "outputs": [
    {
     "data": {
      "text/plain": [
       "480042"
      ]
     },
     "execution_count": 8,
     "metadata": {},
     "output_type": "execute_result"
    }
   ],
   "source": []
  }
 ],
 "metadata": {
  "kernelspec": {
   "display_name": ".venv",
   "language": "python",
   "name": "python3"
  },
  "language_info": {
   "codemirror_mode": {
    "name": "ipython",
    "version": 3
   },
   "file_extension": ".py",
   "mimetype": "text/x-python",
   "name": "python",
   "nbconvert_exporter": "python",
   "pygments_lexer": "ipython3",
   "version": "3.11.1"
  },
  "orig_nbformat": 4,
  "vscode": {
   "interpreter": {
    "hash": "9b5364e2c0a9f3932534026bdf332773d83cde7244666ecc9042fd7678ca65ec"
   }
  }
 },
 "nbformat": 4,
 "nbformat_minor": 2
}
