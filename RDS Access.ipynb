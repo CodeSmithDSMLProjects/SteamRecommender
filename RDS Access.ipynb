{
 "cells": [
  {
   "cell_type": "code",
   "execution_count": 29,
   "id": "5c28a6a4",
   "metadata": {},
   "outputs": [],
   "source": [
    "import psycopg2\n",
    "from keys import secrets\n",
    "import csv\n",
    "import pandas as pd\n",
    "import sqlalchemy"
   ]
  },
  {
   "cell_type": "code",
   "execution_count": 23,
   "id": "1a0e473b",
   "metadata": {},
   "outputs": [],
   "source": [
    "connection = psycopg2.connect(\n",
    "    host = 'steam-db.c5m99euxia00.us-east-1.rds.amazonaws.com',\n",
    "    user = secrets.get('user'),\n",
    "    password = secrets.get('password'),\n",
    "    database='steam_db'\n",
    "    )\n",
    "cursor=connection.cursor()"
   ]
  },
  {
   "cell_type": "code",
   "execution_count": 24,
   "id": "481fd2b9",
   "metadata": {},
   "outputs": [],
   "source": [
    "# Create steam tags table\n",
    "cursor.execute (\"\"\"CREATE TABLE tags(\n",
    "id SERIAL PRIMARY KEY,\n",
    "genre text\n",
    ")\"\"\")\n",
    "\n",
    "# # Create steam games table\n",
    "# cursor.execute(\"\"\"CREATE TABLE steam(\n",
    "# name text,\n",
    "# tags int,\n",
    "# windows text,\n",
    "# mac text,\n",
    "# linux text,\n",
    "# reviews text,\n",
    "# release text,\n",
    "# discount text,\n",
    "# price double precision\n",
    "# )\"\"\")\n",
    "\n",
    "connection.commit()"
   ]
  },
  {
   "cell_type": "code",
   "execution_count": 30,
   "id": "03dcd51d",
   "metadata": {},
   "outputs": [
    {
     "name": "stderr",
     "output_type": "stream",
     "text": [
      "C:\\Users\\admin\\AppData\\Local\\Temp\\ipykernel_34344\\1120550366.py:9: UserWarning: pandas only supports SQLAlchemy connectable (engine/connection) or database string URI or sqlite3 DBAPI2 connection. Other DBAPI2 objects are not tested. Please consider using SQLAlchemy.\n",
      "  pd.read_sql(sql, con=connection)\n"
     ]
    },
    {
     "data": {
      "text/html": [
       "<div>\n",
       "<style scoped>\n",
       "    .dataframe tbody tr th:only-of-type {\n",
       "        vertical-align: middle;\n",
       "    }\n",
       "\n",
       "    .dataframe tbody tr th {\n",
       "        vertical-align: top;\n",
       "    }\n",
       "\n",
       "    .dataframe thead th {\n",
       "        text-align: right;\n",
       "    }\n",
       "</style>\n",
       "<table border=\"1\" class=\"dataframe\">\n",
       "  <thead>\n",
       "    <tr style=\"text-align: right;\">\n",
       "      <th></th>\n",
       "      <th>table_name</th>\n",
       "      <th>column_name</th>\n",
       "      <th>data_type</th>\n",
       "      <th>table_schema</th>\n",
       "    </tr>\n",
       "  </thead>\n",
       "  <tbody>\n",
       "    <tr>\n",
       "      <th>0</th>\n",
       "      <td>tags</td>\n",
       "      <td>id</td>\n",
       "      <td>integer</td>\n",
       "      <td>public</td>\n",
       "    </tr>\n",
       "    <tr>\n",
       "      <th>1</th>\n",
       "      <td>tags</td>\n",
       "      <td>genre</td>\n",
       "      <td>text</td>\n",
       "      <td>public</td>\n",
       "    </tr>\n",
       "  </tbody>\n",
       "</table>\n",
       "</div>"
      ],
      "text/plain": [
       "  table_name column_name data_type table_schema\n",
       "0       tags          id   integer       public\n",
       "1       tags       genre      text       public"
      ]
     },
     "execution_count": 30,
     "metadata": {},
     "output_type": "execute_result"
    }
   ],
   "source": [
    "# Gather all available tables and columns info\n",
    "\n",
    "sql = \"\"\"\n",
    "SELECT \"table_name\",\"column_name\", \"data_type\", \"table_schema\"\n",
    "FROM INFORMATION_SCHEMA.COLUMNS\n",
    "WHERE \"table_schema\" = 'public'\n",
    "ORDER BY table_name  \n",
    "\"\"\"\n",
    "pd.read_sql(sql, con=connection)"
   ]
  },
  {
   "cell_type": "code",
   "execution_count": 32,
   "id": "826673b9",
   "metadata": {},
   "outputs": [],
   "source": [
    "# Use tags to create table\n",
    "with open('data/tags.csv', 'r') as row:\n",
    "    cursor.copy_from(row, 'tags', sep=',')\n",
    "\n",
    "# # Use steam to create table\n",
    "# with open('data/steam.csv', 'r') as row:\n",
    "#     cursor.copy_from(row, 'steam', sep=',')\n",
    "\n",
    "connection.commit()"
   ]
  },
  {
   "cell_type": "markdown",
   "id": "5a227f2d",
   "metadata": {},
   "source": [
    "# Create a new role for additional access\n",
    "cursor.execute(\"\"\"CREATE ROLE guest WITH LOGIN PASSWORD 'guest_access'\"\"\")\n",
    "\n",
    "# Grant different privileges\n",
    "cursor.execute(\"\"\"GRANT CONNECT ON DATABASE steam_db TO guest\"\"\")\n",
    "cursor.execute(\"\"\"GRANT SELECT, UPDATE, INSERT ON tags TO guest\"\"\")"
   ]
  },
  {
   "cell_type": "code",
   "execution_count": 39,
   "id": "bb5e40a9",
   "metadata": {},
   "outputs": [
    {
     "name": "stderr",
     "output_type": "stream",
     "text": [
      "C:\\Users\\admin\\AppData\\Local\\Temp\\ipykernel_34344\\3703861811.py:7: UserWarning: pandas only supports SQLAlchemy connectable (engine/connection) or database string URI or sqlite3 DBAPI2 connection. Other DBAPI2 objects are not tested. Please consider using SQLAlchemy.\n",
      "  pd.read_sql(sql, con=connection)\n"
     ]
    },
    {
     "data": {
      "text/html": [
       "<div>\n",
       "<style scoped>\n",
       "    .dataframe tbody tr th:only-of-type {\n",
       "        vertical-align: middle;\n",
       "    }\n",
       "\n",
       "    .dataframe tbody tr th {\n",
       "        vertical-align: top;\n",
       "    }\n",
       "\n",
       "    .dataframe thead th {\n",
       "        text-align: right;\n",
       "    }\n",
       "</style>\n",
       "<table border=\"1\" class=\"dataframe\">\n",
       "  <thead>\n",
       "    <tr style=\"text-align: right;\">\n",
       "      <th></th>\n",
       "      <th>id</th>\n",
       "      <th>genre</th>\n",
       "    </tr>\n",
       "  </thead>\n",
       "  <tbody>\n",
       "    <tr>\n",
       "      <th>0</th>\n",
       "      <td>492</td>\n",
       "      <td>Indie</td>\n",
       "    </tr>\n",
       "    <tr>\n",
       "      <th>1</th>\n",
       "      <td>1003823</td>\n",
       "      <td>Profile Features Limited</td>\n",
       "    </tr>\n",
       "    <tr>\n",
       "      <th>2</th>\n",
       "      <td>19</td>\n",
       "      <td>Action</td>\n",
       "    </tr>\n",
       "    <tr>\n",
       "      <th>3</th>\n",
       "      <td>597</td>\n",
       "      <td>Casual</td>\n",
       "    </tr>\n",
       "    <tr>\n",
       "      <th>4</th>\n",
       "      <td>4182</td>\n",
       "      <td>Singleplayer</td>\n",
       "    </tr>\n",
       "    <tr>\n",
       "      <th>...</th>\n",
       "      <td>...</td>\n",
       "      <td>...</td>\n",
       "    </tr>\n",
       "    <tr>\n",
       "      <th>439</th>\n",
       "      <td>363767</td>\n",
       "      <td>Snooker</td>\n",
       "    </tr>\n",
       "    <tr>\n",
       "      <th>440</th>\n",
       "      <td>42329</td>\n",
       "      <td>Coding</td>\n",
       "    </tr>\n",
       "    <tr>\n",
       "      <th>441</th>\n",
       "      <td>30927</td>\n",
       "      <td>Fox</td>\n",
       "    </tr>\n",
       "    <tr>\n",
       "      <th>442</th>\n",
       "      <td>1220528</td>\n",
       "      <td>Hobby Sim</td>\n",
       "    </tr>\n",
       "    <tr>\n",
       "      <th>443</th>\n",
       "      <td>6214</td>\n",
       "      <td>Birds</td>\n",
       "    </tr>\n",
       "  </tbody>\n",
       "</table>\n",
       "<p>444 rows × 2 columns</p>\n",
       "</div>"
      ],
      "text/plain": [
       "          id                     genre\n",
       "0        492                     Indie\n",
       "1    1003823  Profile Features Limited\n",
       "2         19                    Action\n",
       "3        597                    Casual\n",
       "4       4182              Singleplayer\n",
       "..       ...                       ...\n",
       "439   363767                   Snooker\n",
       "440    42329                    Coding\n",
       "441    30927                       Fox\n",
       "442  1220528                 Hobby Sim\n",
       "443     6214                     Birds\n",
       "\n",
       "[444 rows x 2 columns]"
      ]
     },
     "execution_count": 39,
     "metadata": {},
     "output_type": "execute_result"
    }
   ],
   "source": [
    "# Read from table tags\n",
    "\n",
    "sql = \"\"\"\n",
    "SELECT * FROM tags\n",
    "\"\"\"\n",
    "\n",
    "pd.read_sql(sql, con=connection)"
   ]
  }
 ],
 "metadata": {
  "kernelspec": {
   "display_name": "steam",
   "language": "python",
   "name": "steam"
  },
  "language_info": {
   "codemirror_mode": {
    "name": "ipython",
    "version": 3
   },
   "file_extension": ".py",
   "mimetype": "text/x-python",
   "name": "python",
   "nbconvert_exporter": "python",
   "pygments_lexer": "ipython3",
   "version": "3.8.16"
  }
 },
 "nbformat": 4,
 "nbformat_minor": 5
}
