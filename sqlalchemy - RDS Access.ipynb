{
 "cells": [
  {
   "cell_type": "code",
   "execution_count": 1,
   "id": "5c28a6a4",
   "metadata": {},
   "outputs": [],
   "source": [
    "import psycopg2\n",
    "from keys import secrets\n",
    "import csv\n",
    "import pandas as pd\n",
    "from sqlalchemy import URL, create_engine\n",
    "import io"
   ]
  },
  {
   "cell_type": "code",
   "execution_count": 2,
   "id": "5262b9f8",
   "metadata": {},
   "outputs": [],
   "source": [
    "# Create postgres url_object for engine\n",
    "url_object = URL.create(\n",
    "                \"postgresql+psycopg2\",\n",
    "                host = 'steam-db.c5m99euxia00.us-east-1.rds.amazonaws.com',\n",
    "                username = secrets.get('user'),\n",
    "                port=5432,\n",
    "                password = secrets.get('password'),\n",
    "                database='steam_db')"
   ]
  },
  {
   "cell_type": "code",
   "execution_count": 3,
   "id": "d0625f91",
   "metadata": {},
   "outputs": [
    {
     "data": {
      "text/plain": [
       "<sqlalchemy.engine.base.Connection at 0x21fa9c8ebb0>"
      ]
     },
     "execution_count": 3,
     "metadata": {},
     "output_type": "execute_result"
    }
   ],
   "source": [
    "engine = create_engine(url_object)\n",
    "engine.connect()"
   ]
  },
  {
   "cell_type": "code",
   "execution_count": 4,
   "id": "a6f7bbdc",
   "metadata": {},
   "outputs": [],
   "source": [
    "steam_path = 'data/steam.csv'\n",
    "tags_path = 'data/tags.csv'"
   ]
  },
  {
   "cell_type": "code",
   "execution_count": 5,
   "id": "57a6a094",
   "metadata": {
    "scrolled": true
   },
   "outputs": [],
   "source": [
    "# Read in csv files\n",
    "steam = pd.read_csv(steam_path)\n",
    "tags = pd.read_csv(tags_path)"
   ]
  },
  {
   "cell_type": "code",
   "execution_count": 6,
   "id": "ff5c8d6d",
   "metadata": {},
   "outputs": [],
   "source": [
    "# Drop existing table if needed\n",
    "connection = engine.raw_connection()\n",
    "cursor = connection.cursor()\n",
    "command = \"DROP TABLE IF EXISTS {};\".format('steam')\n",
    "cursor.execute(command)\n",
    "connection.commit()\n",
    "cursor.close()"
   ]
  },
  {
   "cell_type": "code",
   "execution_count": 7,
   "id": "bd1a8459",
   "metadata": {},
   "outputs": [
    {
     "data": {
      "text/plain": [
       "201"
      ]
     },
     "execution_count": 7,
     "metadata": {},
     "output_type": "execute_result"
    }
   ],
   "source": [
    "# Convert steam df to sql db\n",
    "steam.to_sql(name='steam', con=engine, if_exists='replace')"
   ]
  },
  {
   "cell_type": "code",
   "execution_count": 8,
   "id": "be19546c",
   "metadata": {},
   "outputs": [
    {
     "data": {
      "text/plain": [
       "443"
      ]
     },
     "execution_count": 8,
     "metadata": {},
     "output_type": "execute_result"
    }
   ],
   "source": [
    "# Convert tags df to sql db\n",
    "tags.to_sql(name='tags', con=engine, if_exists='replace')"
   ]
  },
  {
   "cell_type": "code",
   "execution_count": null,
   "id": "b1b88182",
   "metadata": {},
   "outputs": [
    {
     "name": "stderr",
     "output_type": "stream",
     "text": [
      "C:\\Users\\admin\\AppData\\Local\\Temp\\ipykernel_27492\\3230189287.py:7: UserWarning: pandas only supports SQLAlchemy connectable (engine/connection) or database string URI or sqlite3 DBAPI2 connection. Other DBAPI2 objects are not tested. Please consider using SQLAlchemy.\n",
      "  pd.read_sql(sql, con=connection)\n"
     ]
    }
   ],
   "source": [
    "# Read from table steam\n",
    "\n",
    "sql = \"\"\"\n",
    "SELECT * FROM steam\n",
    "\"\"\"\n",
    "\n",
    "pd.read_sql(sql, con=connection)"
   ]
  },
  {
   "cell_type": "code",
   "execution_count": null,
   "id": "a11dc9be",
   "metadata": {},
   "outputs": [],
   "source": [
    "# Read from table tags\n",
    "\n",
    "sql = \"\"\"\n",
    "SELECT * FROM tags\n",
    "\"\"\"\n",
    "\n",
    "pd.read_sql(sql, con=connection)"
   ]
  },
  {
   "cell_type": "code",
   "execution_count": null,
   "id": "2233ecbe",
   "metadata": {},
   "outputs": [],
   "source": []
  },
  {
   "cell_type": "code",
   "execution_count": null,
   "id": "a1a3ad94",
   "metadata": {},
   "outputs": [],
   "source": []
  }
 ],
 "metadata": {
  "kernelspec": {
   "display_name": "steam",
   "language": "python",
   "name": "steam"
  },
  "language_info": {
   "codemirror_mode": {
    "name": "ipython",
    "version": 3
   },
   "file_extension": ".py",
   "mimetype": "text/x-python",
   "name": "python",
   "nbconvert_exporter": "python",
   "pygments_lexer": "ipython3",
   "version": "3.8.16"
  }
 },
 "nbformat": 4,
 "nbformat_minor": 5
}
